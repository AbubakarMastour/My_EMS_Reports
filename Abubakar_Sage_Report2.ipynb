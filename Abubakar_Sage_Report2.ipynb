{
 "cells": [
  {
   "cell_type": "markdown",
   "id": "frank-vessel",
   "metadata": {},
   "source": [
    "# Sage Report Two:"
   ]
  },
  {
   "cell_type": "markdown",
   "id": "adequate-sucking",
   "metadata": {},
   "source": [
    "## Frobenius coin problem \n",
    "We need to calculate the amount of money that we can make it from the two integers"
   ]
  },
  {
   "cell_type": "markdown",
   "id": "leading-balloon",
   "metadata": {},
   "source": [
    "If $a = 2$ and $b = 3$"
   ]
  },
  {
   "cell_type": "markdown",
   "id": "expired-bumper",
   "metadata": {},
   "source": [
    "if we need to calculate the Frobenius coin problem we need to consider this formula: $n = ax + by$ and this equation is called Linear Diophantine Equation, so we have to put all the posible number in this form"
   ]
  },
  {
   "cell_type": "markdown",
   "id": "sound-survey",
   "metadata": {},
   "source": [
    "let us try to put a theorm for the above equation\n",
    "If $(x 0 , y 0 )$ is a solution of $ax + by = n$ , then all\n",
    "solutions are given by ${(x, y ) : x = x 0 + bt, y = y 0 − at, t ∈ Z}$\n",
    "\n",
    "let us proof that:\n",
    "\n",
    "$a(x 0 + bt) + b(y 0 − at) = ax 0 + abt + by 0 − bat = ax 0 + by 0$ and this is equal to $n$\n",
    "\n",
    "The largest integer that cannot be represented as a nonnegative\n",
    "linear combination of a and b is\n",
    "\n",
    "$g (a, b) = ab − a − b = (a − 1 )(b − 1 ) − 1.$\n",
    "\n",
    "**Credit:** Derek Orr.2017,The Frobenius Coin Problem A Geometric Proof for Two Variables,University of Pittsburgh."
   ]
  },
  {
   "cell_type": "markdown",
   "id": "humanitarian-tattoo",
   "metadata": {},
   "source": [
    "we can calculte the possible number to figure out the number that we can't applied or put it rhe form of n \n",
    "and the first number is 1\n",
    "2 = 2 * 1 + 3*0\n",
    "\n",
    "3 = 2 * 0 + 3 * 1\n",
    "\n",
    "4 = 2*2 + 3*0\n",
    "\n",
    "5 = 2*1 + 3*1\n",
    "\n",
    "6 = 2*3 + 3*0\n",
    "\n",
    "7 = 2*2 + 3*1\n",
    "\n",
    "8 = 2*3 + 2*1\n",
    "\n",
    "9 = 2*0 + 3*3\n",
    "\n",
    "10 = 2*2 + 3*2\n",
    "\n",
    "11 = 2*1 + 3*3\n",
    "\n",
    "12 = 3*2 + 3*2\n",
    "\n",
    "13 = 3*3 + 2*2\n",
    "\n",
    "14 = $2^3(1) + 2*3$\n",
    "\n",
    "15 = 3*3 + 3*2\n",
    "\n",
    "16 = $3^2(2) + 2*0$\n",
    "\n",
    "17 = $2^2(2) + 3*3$\n",
    "\n",
    "18 = $3^2(2) + 2*0$\n",
    "\n",
    "19 = ???\n",
    "\n",
    "20 = $3^2(2) + 2*1$\n",
    "\n",
    "21 = $3*3 + 2^2(3)$\n",
    "\n",
    "22 = $3^2(2) + 2*2$\n",
    "\n",
    "23 = $3*3 + 2^3(2)$\n",
    "\n",
    "24 = $3**2(2) + 2*3$\n",
    "\n",
    "25 = ???\n",
    "\n",
    "26 = $3^2(2) + 2**3(1)$\n",
    "\n",
    "27 = $3^3(1) + 2*0$\n",
    "\n",
    "28 = $2^3(3) + 2*2$\n",
    "\n",
    "29 = $3^3(1) +2*1 $\n",
    "\n",
    "30 = $2^3(3) + 2*3$\n",
    "\n",
    "31 = $3^3 + 2*2$\n",
    "\n",
    "32 = $2^3(3) + 2^3(1)$\n",
    "\n",
    "33 = $3^3(1) + 2*3$\n"
   ]
  },
  {
   "cell_type": "markdown",
   "id": "surrounded-therapy",
   "metadata": {},
   "source": [
    "As you can see from my above slide I found the conjecture and theorm and the proof but I neet time to understand that proof and type it here, because I missed up my time to proof above calculations."
   ]
  },
  {
   "cell_type": "code",
   "execution_count": null,
   "id": "cloudy-packet",
   "metadata": {},
   "outputs": [],
   "source": []
  }
 ],
 "metadata": {
  "kernelspec": {
   "display_name": "SageMath 9.2",
   "language": "sage",
   "name": "sagemath"
  },
  "language_info": {
   "codemirror_mode": {
    "name": "ipython",
    "version": 3
   },
   "file_extension": ".py",
   "mimetype": "text/x-python",
   "name": "python",
   "nbconvert_exporter": "python",
   "pygments_lexer": "ipython3",
   "version": "3.9.2"
  }
 },
 "nbformat": 4,
 "nbformat_minor": 5
}

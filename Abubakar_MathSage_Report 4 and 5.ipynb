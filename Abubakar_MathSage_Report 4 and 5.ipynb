{
 "cells": [
  {
   "cell_type": "markdown",
   "id": "paperback-morning",
   "metadata": {},
   "source": [
    "# Frobenious Coin Problen ( find code for (gcd))\n",
    "## Report No. 4\n",
    "We need to desgin a code that can clculte the gcd of two numbers and return the result "
   ]
  },
  {
   "cell_type": "code",
   "execution_count": 14,
   "id": "buried-christianity",
   "metadata": {},
   "outputs": [],
   "source": [
    "# first we need to define a fuction for our gcd and for our value a,b\n",
    "def gcd(a,b):\n",
    "# then we gonna test if a less than b to reverse rhe values in the second loop\n",
    "    if a < b:\n",
    "        a,b = b,a\n",
    "# and if b =0 then will show us the value of a as the last value remaining \n",
    "    elif b == 0:\n",
    "        return (a)\n",
    "# and if not in all of that we gonna return the b value and the modulo of a,b\n",
    "    else:\n",
    "        return gcd(b,a%b)\n",
    "    "
   ]
  },
  {
   "cell_type": "code",
   "execution_count": 15,
   "id": "binding-tradition",
   "metadata": {},
   "outputs": [
    {
     "data": {
      "text/plain": [
       "2"
      ]
     },
     "execution_count": 15,
     "metadata": {},
     "output_type": "execute_result"
    }
   ],
   "source": [
    "gcd(500,222)"
   ]
  },
  {
   "cell_type": "markdown",
   "id": "identified-pearl",
   "metadata": {},
   "source": [
    "As we can see the output is 2 and if we calculate the gcd of (500,222) we gonna find the result is 2."
   ]
  },
  {
   "cell_type": "markdown",
   "id": "bottom-julian",
   "metadata": {},
   "source": [
    "# Sum of squares \n",
    "## Report No. 5\n",
    "\n",
    "We need to figure out the number that can be written in the form of $n = a^2 + b^2$\n",
    "\n",
    "And for this I deveolop a python code from the code of forebriouns number to calculate that for me \n",
    "\n",
    "And I got all the number that can be written in this form $n = a^2 + b^2$"
   ]
  },
  {
   "cell_type": "code",
   "execution_count": null,
   "id": "conceptual-vaccine",
   "metadata": {},
   "outputs": [],
   "source": [
    "# set n = 1 to avoid 0\n",
    "n = 1\n",
    "# then I set for loop for n to be in 100\n",
    "for n in range (1,101):\n",
    "# and also the same thing for a to be in range n and start from 1 to avoid 0\n",
    "    for a in range (1,n):\n",
    "# and Also b same thing to be in range n and start from 1 to aovid 0\n",
    "        for b in range (1,n):\n",
    "# and then my if condition to check if n an be written in form of b^2 + b^2 or not\n",
    "            if n == (a**2 + b**2):\n",
    "#and then I print the value of a and b and also n\n",
    "                print('a =',a,'b =',b, 'n =',n)\n",
    "        \n",
    "# and if you eger to know the number that con't be written in that form \n",
    "# you can just delete the comment sign to see the result\n",
    "\n",
    "            else:\n",
    "                print('This nuber',n,'can not be written in form of a**2 + b**2')"
   ]
  },
  {
   "cell_type": "markdown",
   "id": "light-scottish",
   "metadata": {},
   "source": [
    "As we can see from the code code above we can caculate all the number than can be written in the form of  $n = a^2 + b^2$, but also there's some number we can't put them in the form of  $n = a^2 + b^2$ and this is becuase when we square them we get output greater that or less than the value of n."
   ]
  }
 ],
 "metadata": {
  "kernelspec": {
   "display_name": "SageMath 9.2",
   "language": "sage",
   "name": "sagemath"
  },
  "language_info": {
   "codemirror_mode": {
    "name": "ipython",
    "version": 3
   },
   "file_extension": ".py",
   "mimetype": "text/x-python",
   "name": "python",
   "nbconvert_exporter": "python",
   "pygments_lexer": "ipython3",
   "version": "3.9.2"
  }
 },
 "nbformat": 4,
 "nbformat_minor": 5
}

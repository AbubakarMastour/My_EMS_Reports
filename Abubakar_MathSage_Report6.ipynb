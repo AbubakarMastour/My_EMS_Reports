{
 "cells": [
  {
   "cell_type": "markdown",
   "id": "a72113d3",
   "metadata": {},
   "source": [
    "## Sum of squares\n",
    "For the square number if we need to put them in form of a dictinary we can change in the same privious code."
   ]
  },
  {
   "cell_type": "code",
   "execution_count": 2,
   "id": "5cb78c3e",
   "metadata": {},
   "outputs": [
    {
     "data": {
      "text/plain": [
       "{2: [(1, 1)],\n",
       " 5: [(1, 2), (2, 1)],\n",
       " 8: [(2, 2)],\n",
       " 10: [(1, 3), (3, 1)],\n",
       " 13: [(2, 3), (3, 2)],\n",
       " 17: [(1, 4), (4, 1)],\n",
       " 18: [(3, 3)],\n",
       " 20: [(2, 4), (4, 2)],\n",
       " 25: [(3, 4), (4, 3)],\n",
       " 26: [(1, 5), (5, 1)],\n",
       " 29: [(2, 5), (5, 2)],\n",
       " 32: [(4, 4)],\n",
       " 34: [(3, 5), (5, 3)],\n",
       " 37: [(1, 6), (6, 1)],\n",
       " 40: [(2, 6), (6, 2)],\n",
       " 41: [(4, 5), (5, 4)],\n",
       " 45: [(3, 6), (6, 3)],\n",
       " 50: [(1, 7), (5, 5), (7, 1)],\n",
       " 52: [(4, 6), (6, 4)],\n",
       " 53: [(2, 7), (7, 2)],\n",
       " 58: [(3, 7), (7, 3)],\n",
       " 61: [(5, 6), (6, 5)],\n",
       " 65: [(1, 8), (4, 7), (7, 4), (8, 1)],\n",
       " 68: [(2, 8), (8, 2)],\n",
       " 72: [(6, 6)],\n",
       " 73: [(3, 8), (8, 3)],\n",
       " 74: [(5, 7), (7, 5)],\n",
       " 80: [(4, 8), (8, 4)],\n",
       " 82: [(1, 9), (9, 1)],\n",
       " 85: [(2, 9), (6, 7), (7, 6), (9, 2)],\n",
       " 89: [(5, 8), (8, 5)],\n",
       " 90: [(3, 9), (9, 3)],\n",
       " 97: [(4, 9), (9, 4)],\n",
       " 98: [(7, 7)]}"
      ]
     },
     "execution_count": 2,
     "metadata": {},
     "output_type": "execute_result"
    }
   ],
   "source": [
    "#first we neet to define an emty dic\n",
    "dic = {}\n",
    "n = 1\n",
    "# then I set for loop for n to be in 100\n",
    "for n in range (1,100):\n",
    "# then we need an empty list to append the value of a and b on it \n",
    "    lst =[]\n",
    "# and also the same thing for a to be in range n and start from 1 to avoid 0\n",
    "    for a in range (1,100):\n",
    "# and Also b same thing to be in range n and start from 1 to aovid 0\n",
    "        for b in range (1,100):\n",
    "# and then my if condition to check if n an be written in form of b^2 + b^2 or not\n",
    "            if n == (a**2 + b**2):\n",
    "# then we append our value to the empty list\n",
    "                lst.append((a,b))\n",
    "# then put our list inside the dic \n",
    "                dic[n] = lst\n",
    "# and then we call our dic \n",
    "dic"
   ]
  },
  {
   "cell_type": "markdown",
   "id": "b3766ed2",
   "metadata": {},
   "source": [
    "# Report number 6:\n",
    "## Q1: Which positive integer can be written as sum of squares of it's factor?\n",
    "There many numbers can be written in form of there's factor and this include both even and odd numbers.\n",
    "for example in my code I take the range in 100 and I got this number can be written in form of thier factor:[20,90]"
   ]
  },
  {
   "cell_type": "markdown",
   "id": "99307fc3",
   "metadata": {},
   "source": [
    "Also when a = b we can write the sum of square of it's factor as you can see in the previous code, but for the rest of the number in range 100 I descover that only **(20, 90)** we can write them in form of thier factor, because **20 = $2^2 + 4^2$ and 90 = $3^2 + 9^2$**"
   ]
  },
  {
   "cell_type": "markdown",
   "id": "131e679d",
   "metadata": {},
   "source": [
    "## Q2: Can there be a formula to expressing n as sum of two positive squares numbers?\n",
    "**Answer:** There's no specific formula to express all positive numbers except $n = a^2 + b^2$ and also in my code I didn't observe any pattren to generate a new formula for all numbers."
   ]
  },
  {
   "cell_type": "markdown",
   "id": "d22a1fc7",
   "metadata": {},
   "source": [
    "## Q3: Which number can be written as a sum of squares of two prime numbers?"
   ]
  },
  {
   "cell_type": "markdown",
   "id": "4bc9cb81",
   "metadata": {},
   "source": [
    "As you can see in my previous code I take the range to be in 100 and then from the output I found that the following numbers can be written in form of two prime numbers: **[13,18,29,39,53,58,74,98]**."
   ]
  },
  {
   "cell_type": "markdown",
   "id": "9dbde795",
   "metadata": {},
   "source": [
    "## Q4: These number that can be written as sum of two squares, are they odd or even?\n"
   ]
  },
  {
   "cell_type": "markdown",
   "id": "8eaa9210",
   "metadata": {},
   "source": [
    "Most of even numbers and odd numbers can be written in form of sum of two squares numbes, and this clearly appear in our previous code."
   ]
  },
  {
   "cell_type": "markdown",
   "id": "f260ab2b",
   "metadata": {},
   "source": [
    "## Q5: Is the sum of squares odd or even?"
   ]
  },
  {
   "cell_type": "markdown",
   "id": "6b14b217",
   "metadata": {},
   "source": [
    "The sum of odd is even and the sum of even numbers are even also but the sum of mixed between odd and even is odd, Also to can return to above mentioned code for more detaile."
   ]
  },
  {
   "cell_type": "markdown",
   "id": "16a0c6c3",
   "metadata": {},
   "source": [
    "## Q6: Given a and b are prime, is the sum of thier squares are $a^2 + b^2$prime?"
   ]
  },
  {
   "cell_type": "markdown",
   "id": "fdc12c10",
   "metadata": {},
   "source": [
    "Yes, but not for all numbers, for example in range 100 we have the number for a and b are prime and also prime is **[13,29,39,53]**"
   ]
  },
  {
   "cell_type": "markdown",
   "id": "e400cb2e",
   "metadata": {},
   "source": [
    "## Q7: Can the square root of numbers can be written in any other form a side form $x^2 + 0^2?$"
   ]
  },
  {
   "cell_type": "markdown",
   "id": "b20c4741",
   "metadata": {},
   "source": [
    "I tried and search to find another formula for this but I fialed to do that, so I conclude that we can't write it in another way than mentioned."
   ]
  },
  {
   "cell_type": "markdown",
   "id": "86329596",
   "metadata": {},
   "source": [
    "## Q8: is there more than one way to get the n, and if there's, what the relationship between a,b and n?"
   ]
  },
  {
   "cell_type": "markdown",
   "id": "188ec078",
   "metadata": {},
   "source": [
    "There is no another formula than $n = a^2 + b^2$ except when $0^2$ is a valid square, and you can see that clearly in the above code."
   ]
  },
  {
   "cell_type": "code",
   "execution_count": null,
   "id": "cde016d1",
   "metadata": {},
   "outputs": [],
   "source": []
  }
 ],
 "metadata": {
  "kernelspec": {
   "display_name": "SageMath 9.7",
   "language": "sage",
   "name": "sagemath"
  },
  "language_info": {
   "codemirror_mode": {
    "name": "ipython",
    "version": 3
   },
   "file_extension": ".py",
   "mimetype": "text/x-python",
   "name": "python",
   "nbconvert_exporter": "python",
   "pygments_lexer": "ipython3",
   "version": "3.9.2"
  }
 },
 "nbformat": 4,
 "nbformat_minor": 5
}

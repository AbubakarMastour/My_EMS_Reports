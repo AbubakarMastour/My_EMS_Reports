{
 "cells": [
  {
   "cell_type": "markdown",
   "metadata": {},
   "source": [
    "<img src=\"./images/aims-za-logo.jpeg\" alt=\"drawing\" style=\"width:400px;\"/>\n",
    "<h1 style=\"text-align: center;\"><a title=\"EMS-AIMS-ZA-2022\" href=\"https://course-website\">Experimental Mathematics Using SageMath — AIMS-ZA-2022-23</a></h1>\n",
    "\n",
    "\n",
    "## Instructor: \n",
    "\n",
    "* **Yaé Gaba**"
   ]
  },
  {
   "cell_type": "markdown",
   "metadata": {},
   "source": [
    "## Day 07 — New Experiments: Sum of Squares and Plotting <a class=\"anchor\" id=\"new-experiment-sum-of-squares-and-plotting\"></a>\n",
    "\n",
    "[comment]: <> (<h2 style=\"text-align: left;\">Day 02 — Introduction to <a title=\"SageMath\"href=\"http://www.sagemath.org/\"><em>SageMath</em></a>: A Mathematics Software for All</h2>)\n",
    "\n",
    "\n",
    "\n",
    "\n",
    "The outline of the this notebook is as follows:"
   ]
  },
  {
   "cell_type": "markdown",
   "metadata": {},
   "source": [
    "## Table of Contents: <a class=\"anchor\" id=\"day-06-toc\"></a> \n",
    "[comment]: <> (New Experiment — Sum of Squares)\n",
    "* [ ] [<font color=blue>New Experiment — Sum of Squares </font>](#new-experiment-sum-of-squares)\n",
    "    * [<font color=blue>Exploring Questions</font>](#exploring-questions)\n",
    "       * [<font color=blue>Exploration 1</font>](#exploration-1)\n",
    "       * [<font color=blue>Exploration 2</font>](#exploration-2)\n",
    "       * [<font color=blue>Exploration 3</font>](#exploration-3)\n",
    "       * [<font color=blue>Exploration 4</font>](#exploration-4)\n",
    "       * [<font color=blue>Exploration 5</font>](#exploration-5)\n",
    "       * [<font color=blue>Exploration 6</font>](#exploration-6)\n",
    "       * [<font color=blue>Exploration 7</font>](#exploration-7)\n",
    "       * [<font color=blue>Exploration 8</font>](#exploration-8)\n",
    "       * [<font color=blue>Exploration 9</font>](#exploration-9)\n",
    "    * [<font color=blue>Congruences</font>](#congruences) \n",
    "       * [<font color=blue>Exploration 10</font>](#exploration-10)\n",
    "[comment]: <> (More Plotting and Graphics in Two Dimensions)\n",
    "* [ ] [<font color=blue>More Plotting and Graphics in Two Dimensions</font>](#more-plotting-and-graphics-in-two-dimensions)"
   ]
  },
  {
   "cell_type": "markdown",
   "metadata": {},
   "source": [
    "## New Experiment — Sum of Squares <a class=\"anchor\" id=\"new-experiment-sum-of-squares\"></a>\n",
    "\n",
    "I hope you had a wonderful time during the holiday break. In today's lecture, we will revisit the problem on sum of squares of integers, which we began to explore just before the holiday break. The problems is as follows: \n",
    "\n",
    "Question: Given that $a$ and $b$ are integers, what integers $n$ can be written in the form $n=a^2+b^2$?\n",
    "\n",
    "Here are a cases that do and do not work.\n",
    "\n",
    "   * $2 = 1^2+1^2$ works;\n",
    "   * $3$ does not work, since we only allow integers.  $1+1$ is too small, $1^2+2^2=5$ is too big;\n",
    "   * $4$ actually <em>does</em> work, because we allow $4 = 0^2+2^2$.  (That's just one of our rules; you could play a different game if you wanted.);\n",
    "   * That means $1=1^2+0^2$ works.\n",
    "   * $5$ works.\n",
    "\n",
    "And so forth. In our last lecture, we were able to pose the following questions relating to the sum of squares: \n",
    "\n",
    "   * Which positive integers can be written as a sum of two squares?\n",
    "   * Which ones cannot?\n",
    "   * Which positive integers can be written as a sum of squares of it factors?\n",
    "   * Can there be a formula for expressing $n$ as the sum of two positive square numbers? \n",
    "   * Which numbers can be written as a sum of squares of 2 prime numbers?\n",
    "   * These numbers that can be written as a sum of two squares, are they odd or even? \n",
    "   * Is the sum of squares even or odd?\n",
    "   * Given $a$ and $b$ are prime, is the sum of their squares, $a^{2}+b^{2}$ prime?\n",
    "   * Can the square roots of numbers be written in any other form aside from $x^{2} + 0^{2}$? \n",
    "   * Is there more than one way to get the $n$, and if they is, what's the relationship between the $a$, $b$ and $n$.\n",
    "   \n",
    "\n",
    "In our last lecture, we started by first tried working with pens and paper. We tried by listing those positive integers $n$ ranging from $1$ to $50$ that can be written as a sum of squares and those that can not be written.  \n",
    "\n",
    "What possible *Python* buitin data structure(s) do you think will be best in storing the numbers that can be written?"
   ]
  },
  {
   "cell_type": "code",
   "execution_count": 95,
   "metadata": {},
   "outputs": [],
   "source": [
    "my_list_database = [0, 1, 2, 4, 5]"
   ]
  },
  {
   "cell_type": "markdown",
   "metadata": {},
   "source": [
    "What if, in addition to the possible positive integers that can we can write as the sum of two squares, we also want to know the number of ways that they can be written. What *Python* builtin data structure(s) do you think will be suitable in this case?  \n",
    "\n",
    "Let us create a database of some of the numbers that can be written starting with those that we tried with pens and paper."
   ]
  },
  {
   "cell_type": "code",
   "execution_count": 96,
   "metadata": {},
   "outputs": [],
   "source": [
    "number_of_ways = [1, 2, 1, 2, 2]"
   ]
  },
  {
   "cell_type": "code",
   "execution_count": 97,
   "metadata": {},
   "outputs": [
    {
     "data": {
      "text/plain": [
       "[(0, 1), (1, 2), (2, 1), (4, 2), (5, 2)]"
      ]
     },
     "execution_count": 97,
     "metadata": {},
     "output_type": "execute_result"
    }
   ],
   "source": [
    "possible_database = list(zip(my_list_database, number_of_ways)); possible_database"
   ]
  },
  {
   "cell_type": "markdown",
   "metadata": {},
   "source": [
    "A more effective way is to use Python's dictionary data structure. If that is the case, then we could also have passed the Python variable `possible_database` to Python's `dict` function create dictionary object. That is,"
   ]
  },
  {
   "cell_type": "code",
   "execution_count": 98,
   "metadata": {},
   "outputs": [
    {
     "data": {
      "text/plain": [
       "{0: 1, 1: 2, 2: 1, 4: 2, 5: 2}"
      ]
     },
     "execution_count": 98,
     "metadata": {},
     "output_type": "execute_result"
    }
   ],
   "source": [
    "dict(possible_database)"
   ]
  },
  {
   "cell_type": "markdown",
   "metadata": {},
   "source": [
    "Or we could also start everything with a dictionary and type in the data we want to collect. "
   ]
  },
  {
   "cell_type": "code",
   "execution_count": 99,
   "metadata": {},
   "outputs": [
    {
     "data": {
      "text/plain": [
       "{0: [(0, 0)], 1: [(1, 0), (0, 1)], 2: [(1, 1)]}"
      ]
     },
     "execution_count": 99,
     "metadata": {},
     "output_type": "execute_result"
    }
   ],
   "source": [
    "sum_of_square_database = {0: [(0,0)], 1: [(1,0), (0,1)], 2:[(1,1)]}; sum_of_square_database"
   ]
  },
  {
   "cell_type": "markdown",
   "metadata": {},
   "source": [
    "We can update the dictionary object assigned to the Python variable `sum_of_square_database` as follows:"
   ]
  },
  {
   "cell_type": "code",
   "execution_count": 100,
   "metadata": {},
   "outputs": [],
   "source": [
    "sum_of_square_database[4] = [(0,2), (2, 0)]"
   ]
  },
  {
   "cell_type": "code",
   "execution_count": 101,
   "metadata": {},
   "outputs": [
    {
     "data": {
      "text/plain": [
       "{0: [(0, 0)], 1: [(1, 0), (0, 1)], 2: [(1, 1)], 4: [(0, 2), (2, 0)]}"
      ]
     },
     "execution_count": 101,
     "metadata": {},
     "output_type": "execute_result"
    }
   ],
   "source": [
    "sum_of_square_database"
   ]
  },
  {
   "cell_type": "code",
   "execution_count": 102,
   "metadata": {},
   "outputs": [],
   "source": [
    "sum_of_square_database[5] = [(1,2), (2, 1)]"
   ]
  },
  {
   "cell_type": "code",
   "execution_count": 103,
   "metadata": {},
   "outputs": [
    {
     "data": {
      "text/plain": [
       "{0: [(0, 0)],\n",
       " 1: [(1, 0), (0, 1)],\n",
       " 2: [(1, 1)],\n",
       " 4: [(0, 2), (2, 0)],\n",
       " 5: [(1, 2), (2, 1)]}"
      ]
     },
     "execution_count": 103,
     "metadata": {},
     "output_type": "execute_result"
    }
   ],
   "source": [
    "sum_of_square_database"
   ]
  },
  {
   "cell_type": "markdown",
   "metadata": {},
   "source": [
    "After a while you will want to think of an effective way of doing this by using some *Python* programming construct? What could be your possible effective solution? "
   ]
  },
  {
   "cell_type": "code",
   "execution_count": 104,
   "metadata": {},
   "outputs": [
    {
     "data": {
      "text/plain": [
       "{0: [(0, 0)],\n",
       " 1: [(0, 1), (1, 0)],\n",
       " 2: [(1, 1)],\n",
       " 4: [(0, 2), (2, 0)],\n",
       " 5: [(1, 2), (2, 1)],\n",
       " 8: [(2, 2)],\n",
       " 9: [(0, 3), (3, 0)],\n",
       " 10: [(1, 3), (3, 1)],\n",
       " 13: [(2, 3), (3, 2)],\n",
       " 16: [(0, 4), (4, 0)],\n",
       " 17: [(1, 4), (4, 1)],\n",
       " 18: [(3, 3)]}"
      ]
     },
     "execution_count": 104,
     "metadata": {},
     "output_type": "execute_result"
    }
   ],
   "source": [
    "sum_of_square_database = {}\n",
    "for m in range (20):\n",
    "    my_lst = []\n",
    "    for a in range(20):\n",
    "        for b in range(20):\n",
    "            if m == (a^2 + b^2):\n",
    "                my_lst.append((a,b))\n",
    "                sum_of_square_database[m] = my_lst\n",
    "sum_of_square_database\n",
    "            \n",
    "        "
   ]
  },
  {
   "cell_type": "markdown",
   "metadata": {},
   "source": [
    "Hopefully, by now you should have a fair amount of data in `sum_of_square_database`. Let us now begin exploring the questions we posed regarding the sum of two squares by querying the database we have created. Here are the list of questions we posed: \n",
    "\n",
    "   * Which positive integers can be written as a sum of two squares?\n",
    "   * Which ones cannot?\n",
    "   * Which positive integers can be written as a sum of squares of their factors?\n",
    "   * Can there be a formula for expressing $n$ as the sum of two positive square numbers? \n",
    "   * Which numbers can be written as a sum of squares of 2 prime numbers?\n",
    "   * These numbers that can be written as a sum of two squares, are they odd or even? \n",
    "   * Given $a$ and $b$ are prime, is the sum of their squares, $a^{2}+b^{2}$ prime?\n",
    "   * Can the square roots of numbers be written in any other form aside from $x^{2} + 0^{2}$? \n",
    "   * Is there more than one way to get the $n$, and if they is, what's the relationship between the $a$, $b$ and $n$.\n",
    "<hr>\n",
    "\n",
    "We also possed the following: \n",
    "\n",
    "   * Are there any special types of numbers that can be written?  (Or that cannot?)\n",
    "      * Primes\n",
    "      * even/odd, modulo 3, modulo 4, modulo 5, etc..\n",
    "      * A combination of the above\n",
    "\n",
    "\n"
   ]
  },
  {
   "cell_type": "markdown",
   "metadata": {},
   "source": [
    "### Exploring Questions <a class=\"anchor\" id=\"exploring-questions\"></a>\n",
    "\n",
    "The goal of this subsection is answer the first three questions that we possed concerning the sum of squares problems. You will learn what it means to query the database we have created. Let us begin with the first question. "
   ]
  },
  {
   "cell_type": "markdown",
   "metadata": {},
   "source": [
    "#### Exploration 1 <a class=\"anchor\" id=\"exploration-1\"></a>\n",
    "\n",
    "The question to explore is: \n",
    "\n",
    " * _Which positive integers can be written as a sum of two integer squares?_\n",
    "\n",
    "What will be a possible answer to this?"
   ]
  },
  {
   "cell_type": "code",
   "execution_count": 105,
   "metadata": {},
   "outputs": [
    {
     "data": {
      "text/plain": [
       "{0: [(0, 0)],\n",
       " 1: [(0, 1), (1, 0)],\n",
       " 2: [(1, 1)],\n",
       " 4: [(0, 2), (2, 0)],\n",
       " 5: [(1, 2), (2, 1)],\n",
       " 8: [(2, 2)],\n",
       " 9: [(0, 3), (3, 0)],\n",
       " 10: [(1, 3), (3, 1)],\n",
       " 13: [(2, 3), (3, 2)],\n",
       " 16: [(0, 4), (4, 0)],\n",
       " 17: [(1, 4), (4, 1)],\n",
       " 18: [(3, 3)]}"
      ]
     },
     "execution_count": 105,
     "metadata": {},
     "output_type": "execute_result"
    }
   ],
   "source": [
    "sum_of_square_database"
   ]
  },
  {
   "cell_type": "markdown",
   "metadata": {},
   "source": [
    "That seems to answer the question. However, I think there is more we can ask here. For example, Is there more to explore about these numbers? Is there anything common with them or a subset of them? What do you think we can do?  \n",
    "\n",
    "We may come back to this later."
   ]
  },
  {
   "cell_type": "markdown",
   "metadata": {},
   "source": [
    "#### Exploration 2 <a class=\"anchor\" id=\"exploration-2\"></a>\n",
    "\n",
    "The question to explore is: \n",
    "\n",
    " * _Which positive numbers cannot be written as a sum of two integer squares?_\n",
    "\n",
    "What will be a possible answer to this? How would you encode this in Python in order to query the database `sum_of_square_database`?"
   ]
  },
  {
   "cell_type": "code",
   "execution_count": 106,
   "metadata": {},
   "outputs": [
    {
     "data": {
      "text/plain": [
       "[0, 1, 2, 3, 4, 5, 6, 7, 8, 9, 10, 11, 12, 13, 14, 15, 16, 17, 18, 19]"
      ]
     },
     "execution_count": 106,
     "metadata": {},
     "output_type": "execute_result"
    }
   ],
   "source": [
    "lst = []\n",
    "for i in range(20):\n",
    "    lst.append(i)\n",
    "lst"
   ]
  },
  {
   "cell_type": "code",
   "execution_count": 107,
   "metadata": {},
   "outputs": [
    {
     "data": {
      "text/plain": [
       "{3, 6, 7, 11, 12, 14, 15, 19}"
      ]
     },
     "execution_count": 107,
     "metadata": {},
     "output_type": "execute_result"
    }
   ],
   "source": [
    "num = set(lst)\n",
    "num2 = set(sum_of_square_database)\n",
    "num - num2"
   ]
  },
  {
   "cell_type": "markdown",
   "metadata": {},
   "source": [
    "Is there more to explore about these numbers? Is there anything common with them or a subset of them? What do you think we can do? \n",
    "\n",
    "We may come back to this later."
   ]
  },
  {
   "cell_type": "markdown",
   "metadata": {},
   "source": [
    "Yes we can do that for as many as possible numbers using this formula $n = a^2 + b^2$ "
   ]
  },
  {
   "cell_type": "markdown",
   "metadata": {},
   "source": [
    "#### Exploration 3 <a class=\"anchor\" id=\"exploration-3\"></a>\n",
    "\n",
    "The question to explore is: \n",
    "\n",
    " * _Which positive integers can be written as a sum of two integer squares of it factors?_\n",
    "\n",
    "In other words, among those positive integers $n$ can be written as $n = a^{2} + b^{2}$ with $a$ and $b$ as integers, which them are factors of $n$. That is, $a$ and $b$ both divides $n$.\n",
    "\n",
    "\n",
    "What will be a possible answer to this? How would you encode this in Python in order to query the database `sum_of_square_database`?"
   ]
  },
  {
   "cell_type": "code",
   "execution_count": 119,
   "metadata": {},
   "outputs": [
    {
     "data": {
      "text/plain": [
       "{2: [(1, 1)], 8: [(2, 2)], 18: [(3, 3)]}"
      ]
     },
     "execution_count": 119,
     "metadata": {},
     "output_type": "execute_result"
    }
   ],
   "source": [
    "sum_of_square_database = {}\n",
    "for m in range (1,20):\n",
    "    my_lst = []\n",
    "    for a in range(1,20):\n",
    "        for b in range(1,20):\n",
    "            if m == (a^2 + b^2) and m%a ==0 and m%b == 0:\n",
    "                my_lst.append((a,b))\n",
    "                sum_of_square_database[m] = my_lst\n",
    "sum_of_square_database"
   ]
  },
  {
   "cell_type": "markdown",
   "metadata": {},
   "source": [
    "#### Exploration 4 <a class=\"anchor\" id=\"exploration-4\"></a>\n",
    "\n",
    "The question to explore is: \n",
    "\n",
    " * _Can there be a formula for expressing $n$ as the sum of two positive square numbers?_\n",
    "\n",
    "You may want to skip this for now."
   ]
  },
  {
   "cell_type": "markdown",
   "metadata": {},
   "source": [
    "Yes there is two formula to do that $n = a^2 + b^2$ or $n = a^2 +0^2$ or $n = 0^2 + b^2$"
   ]
  },
  {
   "cell_type": "markdown",
   "metadata": {},
   "source": [
    "#### Exploration 5 <a class=\"anchor\" id=\"exploration-5\"></a>\n",
    "\n",
    "The question to explore is: \n",
    "\n",
    " * _These numbers that can be written as a sum of two squares, are they odd or even?_"
   ]
  },
  {
   "cell_type": "code",
   "execution_count": 120,
   "metadata": {},
   "outputs": [
    {
     "data": {
      "text/plain": [
       "[0, 2, 4, 6, 8, 10, 12, 14, 16, 18]"
      ]
     },
     "execution_count": 120,
     "metadata": {},
     "output_type": "execute_result"
    }
   ],
   "source": [
    "my_lst = []\n",
    "for m in range (20):\n",
    "    if m%2 == 0:\n",
    "        my_lst.append(m)\n",
    "my_lst\n"
   ]
  },
  {
   "cell_type": "code",
   "execution_count": 121,
   "metadata": {},
   "outputs": [
    {
     "data": {
      "text/plain": [
       "[1, 3, 5, 7, 9, 11, 13, 15, 17, 19]"
      ]
     },
     "execution_count": 121,
     "metadata": {},
     "output_type": "execute_result"
    }
   ],
   "source": [
    "my_lst = []\n",
    "for m in range (20):\n",
    "    if m%2 != 0:\n",
    "        my_lst.append(m)\n",
    "my_lst\n"
   ]
  },
  {
   "cell_type": "markdown",
   "metadata": {},
   "source": [
    "As you can see from the previous three code both even and odd number can be written as $n = a^2 + b^2$"
   ]
  },
  {
   "cell_type": "markdown",
   "metadata": {},
   "source": [
    "#### Exploration 6 <a class=\"anchor\" id=\"exploration-6\"></a> \n",
    "\n",
    "The question to explore is: \n",
    "\n",
    " * _Given $a$ and $b$ are prime, is the sum of their squares, $a^{2}+b^{2}$ prime?_\n",
    " \n",
    "_Hint: You may want to use the SageMath function `is_prime`. Try and read the documentation so you know how to use it._"
   ]
  },
  {
   "cell_type": "code",
   "execution_count": 122,
   "metadata": {},
   "outputs": [
    {
     "name": "stdout",
     "output_type": "stream",
     "text": [
      "6 is not a prime number\n",
      "7 is a prime number\n",
      "8 is not a prime number\n",
      "9 is a prime number\n",
      "9 is not a prime number\n",
      "10 is not a prime number\n",
      "11 is a prime number\n",
      "11 is a prime number\n",
      "11 is a prime number\n",
      "12 is not a prime number\n",
      "13 is a prime number\n",
      "13 is a prime number\n",
      "13 is a prime number\n",
      "13 is a prime number\n",
      "14 is not a prime number\n",
      "15 is a prime number\n",
      "15 is not a prime number\n",
      "16 is not a prime number\n",
      "17 is a prime number\n",
      "17 is a prime number\n",
      "17 is a prime number\n",
      "17 is a prime number\n",
      "17 is a prime number\n",
      "17 is a prime number\n",
      "18 is not a prime number\n",
      "19 is a prime number\n",
      "19 is a prime number\n",
      "19 is a prime number\n",
      "19 is a prime number\n",
      "19 is a prime number\n",
      "19 is a prime number\n",
      "19 is a prime number\n"
     ]
    }
   ],
   "source": [
    "for num in range(20):\n",
    "    if num > 1:\n",
    "        for i in range(2, num//2):\n",
    "            if (num % i) == 0:\n",
    "                print(num, \"is not a prime number\")\n",
    "                break\n",
    "            else:\n",
    "                print(num, \"is a prime number\")\n",
    "       "
   ]
  },
  {
   "cell_type": "markdown",
   "metadata": {},
   "source": [
    "#### Exploration 7 <a class=\"anchor\" id=\"exploration-7\"></a> \n",
    "\n",
    "The question to explore is: \n",
    "\n",
    " * _Can the square roots of numbers be written in any other form aside from $x^{2} + 0^{2}$?_\n",
    " \n",
    "In other words, if $n$ is a square, i.e., $\\exists\\, x\\in\\mathbb{Z}$ with $n = x^{2}$, then are there **positive integers** $a, b$ such that $n = a^{2} + b^{2}$?"
   ]
  },
  {
   "cell_type": "code",
   "execution_count": 123,
   "metadata": {},
   "outputs": [
    {
     "data": {
      "text/plain": [
       "{5: [(3, 4), (4, 3)],\n",
       " 10: [(6, 8), (8, 6)],\n",
       " 13: [(5, 12), (12, 5)],\n",
       " 15: [(9, 12), (12, 9)],\n",
       " 17: [(8, 15), (15, 8)]}"
      ]
     },
     "execution_count": 123,
     "metadata": {},
     "output_type": "execute_result"
    }
   ],
   "source": [
    "sum_of_square_database = {}\n",
    "for t in range(20):\n",
    "    lst = []\n",
    "    for a in range(t):\n",
    "        for b in range(t):\n",
    "            if t^2 == (a^2 + b^2):\n",
    "                lst.append((a,b))\n",
    "                sum_of_square_database[t] = lst\n",
    "sum_of_square_database            "
   ]
  },
  {
   "cell_type": "markdown",
   "metadata": {},
   "source": [
    "Yes, it's possible, as you can see in the previous code we can write it in form of $n^2 = a^2 + b^2$"
   ]
  },
  {
   "cell_type": "markdown",
   "metadata": {},
   "source": [
    "#### Exploration 8 <a class=\"anchor\" id=\"exploration-8\"></a> \n",
    "\n",
    "The question to explore is: \n",
    "\n",
    " * _Is there more than one way to write a positive integer $n$ as the sum of two integer squares $a^{2} + b^{2}$, and if they is, what's the relationship between $n$, $a$ and $b$?_"
   ]
  },
  {
   "cell_type": "markdown",
   "metadata": {},
   "source": [
    "Yes there's another way to do so asin previous question, we can write it in form of $n = a^2 + 0$ or $b^2 +0$"
   ]
  },
  {
   "cell_type": "code",
   "execution_count": 124,
   "metadata": {},
   "outputs": [
    {
     "data": {
      "text/plain": [
       "{0: [(0, 0)], 1: [(0, 1), (1, 0)], 2: [(1, 1)], 4: [(0, 2), (2, 0)]}"
      ]
     },
     "execution_count": 124,
     "metadata": {},
     "output_type": "execute_result"
    }
   ],
   "source": [
    "sum_of_square_database = {}\n",
    "for s in range (0,5):\n",
    "    my_lst = []\n",
    "    for a in range(0,5):\n",
    "        for b in range(0,5):\n",
    "            if s == (a^2 + b^2):\n",
    "                my_lst.append((a,b))\n",
    "                sum_of_square_database[s] = my_lst\n",
    "sum_of_square_database"
   ]
  },
  {
   "cell_type": "markdown",
   "metadata": {},
   "source": [
    "#### Exploration 9 <a class=\"anchor\" id=\"exploration-9\"></a> \n",
    "\n",
    "The question to explore is: \n",
    "\n",
    " * _Can prime numbers be written as a sum of two squares and if so, do they follow some underlying pattern?_"
   ]
  },
  {
   "cell_type": "code",
   "execution_count": 125,
   "metadata": {},
   "outputs": [
    {
     "name": "stdout",
     "output_type": "stream",
     "text": [
      "13\n",
      "13\n"
     ]
    }
   ],
   "source": [
    "prime_num = [2,3,5,7,11,13,17,19]\n",
    "for i in prime_num :\n",
    "    for a in (prime_num):\n",
    "        for b in (prime_num):\n",
    "            if i == (a**2 + b**2):\n",
    "                print(i)"
   ]
  },
  {
   "cell_type": "markdown",
   "metadata": {},
   "source": [
    "### Congruences <a class=\"anchor\" id=\"congruences\"></a> \n",
    "\n",
    "I want to introduce an elementary operation that might be useful in our exploration; namely, modulo arithmetic. You should have seen this before. It has something to do with divisibilty.  \n",
    "\n",
    "To start, let's compute.  What is the remainder of $25$ when divided by $6$?  Do it by hand first."
   ]
  },
  {
   "cell_type": "code",
   "execution_count": 1,
   "metadata": {},
   "outputs": [
    {
     "data": {
      "text/plain": [
       "1"
      ]
     },
     "execution_count": 1,
     "metadata": {},
     "output_type": "execute_result"
    }
   ],
   "source": [
    "mod(25, 6)"
   ]
  },
  {
   "cell_type": "markdown",
   "metadata": {},
   "source": [
    "From the division algorithm, we know that such a remainder is unique.  If we divide $x$ by $m$, then $0\\leq {\\rm mod}(x,m)< m$. But lots and lots of different numbers can have the same remainder!"
   ]
  },
  {
   "cell_type": "code",
   "execution_count": 2,
   "metadata": {},
   "outputs": [
    {
     "data": {
      "text/plain": [
       "[1, 1, 1, 1, 1, 1, 1, 1, 1]"
      ]
     },
     "execution_count": 2,
     "metadata": {},
     "output_type": "execute_result"
    }
   ],
   "source": [
    "[mod(num, 6) for num in [1, 7, 13, 19, 25, -5, -11, 6001, -17]]"
   ]
  },
  {
   "cell_type": "markdown",
   "metadata": {},
   "source": [
    "In mathematics, what we often do in such a situation where structure is shared is to connect things with a *relation*.  \n",
    "A relation is a very general notion, and basically it exists once you define it. Our relation will be called **congruence**, denoted by $\\equiv$ and it is massively important. We essentially use the same definitions and notation that Gauss came up with.  \n",
    "\n",
    "\n",
    "**Definition**: We say that $a$ is congruent to $b$ modulo $n$, or $a \\equiv b \\, ({\\rm mod} \\, n)$, precisely if $n\\mid (a−b)$.\n",
    "\n",
    "This is *exactly* the same thing as leaving the same remainder.  It is very useful to try to prove that these conditions are the same.  \n",
    "In our case, saying $25\\equiv 1\\equiv -5$ (mod $6$) is the same as saying $25=4\\cdot 6 +1$ and $1=0\\cdot 6 + 1$ and $-5=-1\\cdot 6+1$.  \n",
    "This idea gives us a *lot* of power.  For instance, calculating $2^{1000000000}$ (mod 3) instantaneous for me - it's $1$.  \n",
    "\n",
    "I can check it with *SageMath*:"
   ]
  },
  {
   "cell_type": "code",
   "execution_count": null,
   "metadata": {},
   "outputs": [],
   "source": [
    "%time mod(2^1000000000,3)"
   ]
  },
  {
   "cell_type": "markdown",
   "metadata": {},
   "source": [
    "Yet I did it instantaneously in my head. Of course, the reason is not that I am clever, but that congruence can be turned into arithmetic! Here are two useful properties:\n",
    "\n",
    "   * If $a\\equiv b$ (mod $m$), then $a+c\\equiv b+c$ (mod $m$).\n",
    "   * If $a\\equiv b$ (mod $m$), then $ac\\equiv bc$ (mod $m$).\n",
    "\n",
    "Now I reveal my secret: $2\\equiv -1$ (mod 3), and $(-1)^{1000000000}=1$, like all even powers of negative one.  Ta-dah!  \n",
    "\n",
    "What I've done is *first* think of the original number as in the congruence, and then taken its power. *SageMath* verifies this approach is much faster, and even for much bigger powers:"
   ]
  },
  {
   "cell_type": "code",
   "execution_count": null,
   "metadata": {},
   "outputs": [],
   "source": [
    "b = mod(2,3); b"
   ]
  },
  {
   "cell_type": "code",
   "execution_count": null,
   "metadata": {},
   "outputs": [],
   "source": [
    "print(type(b))"
   ]
  },
  {
   "cell_type": "code",
   "execution_count": null,
   "metadata": {},
   "outputs": [],
   "source": [
    "%time b^1000000000000000000000000000000"
   ]
  },
  {
   "cell_type": "markdown",
   "metadata": {},
   "source": [
    "What was computed above is not a trick; I definitely couldn't do $2000^{1000}$, or even $16^{1000}$, in my head.  \n",
    "There is another set of properties that congruence has. Congruence is *reflexive, symmetric, and transitive*. That is, all the things you know are true about equality are also true about congruence (with a particular modulus $n$ picked, of course).\n",
    "\n",
    "   * For any $a\\in \\mathbb{Z}$, $a\\equiv a$ (mod $n$).\n",
    "   * If $a\\equiv b$ mod ($n$), then $b\\equiv a$ (mod $n$). \n",
    "   * If it happens that <em>both</em> $a\\equiv b$ and $b\\equiv c$ (mod $n$), then $a\\equiv c$ (mod $n$) as well.\n",
    "   \n",
    "If we combine all of these facts, it basically means we can divide up all the integers into \"**equivalence classes**\". That is, $\\mathbb{Z}$ can be broken up into disjoint pieces which we are free to consider as units, and which stay different.  \n",
    "\n",
    "We denote such a class by the notation \n",
    "\n",
    "$$[a]=\\{\\text{all numbers congruent to }a\\text{ modulo }n\\}\\; .$$  \n",
    "\n",
    "So, for instance, the equivalence class we started with is \n",
    "\n",
    "$$[1]=\\{1, 7, 13, 19, 25, -5, -11, 6001,\\ldots\\}$$ or perhaps better written as $$\\{1+6n\\mid n\\in\\mathbb{Z}\\}=[1]\\; .$$  \n",
    "\n",
    "**Definition**: We call the set of equivalence classes modulo $n$ the *integers modulo n*, and denote them by $\\mathbb{Z}_n$."
   ]
  },
  {
   "cell_type": "code",
   "execution_count": 1,
   "metadata": {},
   "outputs": [
    {
     "name": "stdout",
     "output_type": "stream",
     "text": [
      "CPU times: user 47.5 ms, sys: 23.7 ms, total: 71.2 ms\n",
      "Wall time: 70.7 ms\n"
     ]
    },
    {
     "data": {
      "text/plain": [
       "1"
      ]
     },
     "execution_count": 1,
     "metadata": {},
     "output_type": "execute_result"
    }
   ],
   "source": [
    "%time mod(2^3000000000,7)"
   ]
  },
  {
   "cell_type": "code",
   "execution_count": 2,
   "metadata": {},
   "outputs": [
    {
     "name": "stdout",
     "output_type": "stream",
     "text": [
      "CPU times: user 26 µs, sys: 3 µs, total: 29 µs\n",
      "Wall time: 31.5 µs\n"
     ]
    },
    {
     "data": {
      "text/plain": [
       "1"
      ]
     },
     "execution_count": 2,
     "metadata": {},
     "output_type": "execute_result"
    }
   ],
   "source": [
    "%time mod(2,7)^3000000000"
   ]
  },
  {
   "cell_type": "markdown",
   "metadata": {},
   "source": [
    "I knew this one too.  Figure out why with your group members. \n",
    "\n",
    "* Then spend a while making up more examples of this.</li>\n",
    "* Or, try to figure out how I know that $123456$ is divisible by $3$ but not divisible by $9$, using congruences."
   ]
  },
  {
   "cell_type": "markdown",
   "metadata": {},
   "source": [
    "Now let us use the concept of modulo arithmetic in our exploration. In your groups, try to come up with more questions which uses the modulo operation and explore together. Try and record your findings. \n",
    "\n",
    "Before you query the database `sum_of_square_database` with the questions you have possed as a group, take a look at [Exploration 10](#exploration-10), where I possed a question that makes use of the modulo operation. Explore this a group and record your findings. Afterwards, you should explore the questions that you came up with. Again remember to record your findings."
   ]
  },
  {
   "cell_type": "markdown",
   "metadata": {},
   "source": [
    "#### Exploration 10 <a class=\"anchor\" id=\"exploration-10\"></a> \n",
    "\n",
    "The question to explore is: \n",
    "\n",
    " * _Can even/odd numbers modulo 3, modulo 4, modulo 5, etc., be written as a sum of two squares and if so, do they follow some underlying pattern?_"
   ]
  },
  {
   "cell_type": "code",
   "execution_count": 9,
   "metadata": {},
   "outputs": [
    {
     "data": {
      "text/plain": [
       "{0: [(0, 0)],\n",
       " 9: [(0, 3), (3, 0)],\n",
       " 18: [(3, 3)],\n",
       " 36: [(0, 6), (6, 0)],\n",
       " 45: [(3, 6), (6, 3)],\n",
       " 72: [(6, 6)],\n",
       " 81: [(0, 9), (9, 0)],\n",
       " 90: [(3, 9), (9, 3)]}"
      ]
     },
     "execution_count": 9,
     "metadata": {},
     "output_type": "execute_result"
    }
   ],
   "source": [
    "#I need an empty dic to keep my data on it\n",
    "sum_of_square_database = {}\n",
    "# then I set my range fro m to be in 100\n",
    "for m in range (100):\n",
    "# I need empty list to attached my a,b on it and then convert it to dic\n",
    "    my_lst = []\n",
    "# make range for a\n",
    "    for a in range(100):\n",
    "    # make range for m \n",
    "        for b in range(100):\n",
    "            #check the modulo for m, a and b if the reminder is 0\n",
    "            # also instead of 0 you can alternate between numbers 1,2,3,.. etc \n",
    "            if m%3 == 0:\n",
    "                if a%3 == 0:\n",
    "                    if b%3 == 0:\n",
    "                        if m == (a^2 + b^2):\n",
    "                            # here I append a,b to the list\n",
    "                            my_lst.append((a,b))\n",
    "                            # and then convert the list to dic\n",
    "                            sum_of_square_database[m] = my_lst\n",
    "sum_of_square_database\n",
    "            \n",
    "        "
   ]
  },
  {
   "cell_type": "code",
   "execution_count": 15,
   "metadata": {},
   "outputs": [
    {
     "data": {
      "text/plain": [
       "{0: [(0, 0)],\n",
       " 16: [(0, 4), (4, 0)],\n",
       " 32: [(4, 4)],\n",
       " 64: [(0, 8), (8, 0)],\n",
       " 80: [(4, 8), (8, 4)]}"
      ]
     },
     "execution_count": 15,
     "metadata": {},
     "output_type": "execute_result"
    }
   ],
   "source": [
    "#I need an empty dic to keep my data on it\n",
    "sum_of_square_database = {}\n",
    "# then I set my range fro m to be in 100\n",
    "for m in range (100):\n",
    "# I need empty list to attached my a,b on it and then convert it to dic\n",
    "    my_lst = []\n",
    "# make range for a\n",
    "    for a in range(100):\n",
    "    # make range for m \n",
    "        for b in range(100):\n",
    "            #check the modulo for m, a and b if the reminder is 0\n",
    "            # also instead of 0 you can alternate between numbers 1,2,3,.. etc \n",
    "            if m%4 == 0:\n",
    "                if a%4 == 0:\n",
    "                    if b%4 == 0:\n",
    "                        if m == (a^2 + b^2):\n",
    "                            # here I append a,b to the list\n",
    "                            my_lst.append((a,b))\n",
    "                            # and then convert the list to dic\n",
    "                            sum_of_square_database[m] = my_lst\n",
    "sum_of_square_database\n",
    "            \n",
    "   "
   ]
  },
  {
   "cell_type": "code",
   "execution_count": 16,
   "metadata": {},
   "outputs": [
    {
     "data": {
      "text/plain": [
       "{0: [(0, 0)], 25: [(0, 5), (5, 0)], 50: [(5, 5)]}"
      ]
     },
     "execution_count": 16,
     "metadata": {},
     "output_type": "execute_result"
    }
   ],
   "source": [
    "#I need an empty dic to keep my data on it\n",
    "sum_of_square_database = {}\n",
    "# then I set my range fro m to be in 100\n",
    "for m in range (100):\n",
    "# I need empty list to attached my a,b on it and then convert it to dic\n",
    "    my_lst = []\n",
    "# make range for a\n",
    "    for a in range(100):\n",
    "    # make range for m \n",
    "        for b in range(100):\n",
    "            #check the modulo for m, a and b if the reminder is 0\n",
    "            # also instead of 0 you can alternate between numbers 1,2,3,.. etc \n",
    "            if m%5 == 0:\n",
    "                if a%5 == 0:\n",
    "                    if b%5 == 0:\n",
    "                        if m == (a^2 + b^2):\n",
    "                            # here I append a,b to the list\n",
    "                            my_lst.append((a,b))\n",
    "                            # and then convert the list to dic\n",
    "                            sum_of_square_database[m] = my_lst\n",
    "sum_of_square_database\n",
    "            \n",
    "   "
   ]
  },
  {
   "cell_type": "code",
   "execution_count": 14,
   "metadata": {},
   "outputs": [
    {
     "data": {
      "text/plain": [
       "{0: [(0, 0)],\n",
       " 1: [(0, 1), (1, 0)],\n",
       " 2: [(1, 1)],\n",
       " 4: [(0, 2), (2, 0)],\n",
       " 5: [(1, 2), (2, 1)],\n",
       " 8: [(2, 2)],\n",
       " 9: [(0, 3), (3, 0)],\n",
       " 10: [(1, 3), (3, 1)],\n",
       " 13: [(2, 3), (3, 2)],\n",
       " 16: [(0, 4), (4, 0)],\n",
       " 17: [(1, 4), (4, 1)],\n",
       " 18: [(3, 3)],\n",
       " 20: [(2, 4), (4, 2)],\n",
       " 25: [(0, 5), (5, 0)],\n",
       " 26: [(1, 5), (5, 1)],\n",
       " 29: [(2, 5), (5, 2)],\n",
       " 32: [(4, 4)],\n",
       " 34: [(3, 5), (5, 3)],\n",
       " 36: [(0, 6), (6, 0)],\n",
       " 37: [(1, 6), (6, 1)],\n",
       " 40: [(2, 6), (6, 2)],\n",
       " 41: [(4, 5), (5, 4)],\n",
       " 45: [(3, 6), (6, 3)],\n",
       " 49: [(0, 7), (7, 0)],\n",
       " 50: [(5, 5)],\n",
       " 52: [(4, 6), (6, 4)],\n",
       " 53: [(2, 7), (7, 2)],\n",
       " 58: [(3, 7), (7, 3)],\n",
       " 61: [(5, 6), (6, 5)],\n",
       " 64: [(0, 8), (8, 0)],\n",
       " 65: [(1, 8), (4, 7), (7, 4), (8, 1)],\n",
       " 68: [(2, 8), (8, 2)],\n",
       " 72: [(6, 6)],\n",
       " 73: [(3, 8), (8, 3)],\n",
       " 74: [(5, 7), (7, 5)],\n",
       " 80: [(4, 8), (8, 4)],\n",
       " 81: [(0, 9), (9, 0)],\n",
       " 82: [(1, 9), (9, 1)],\n",
       " 85: [(2, 9), (6, 7), (7, 6), (9, 2)],\n",
       " 89: [(5, 8), (8, 5)],\n",
       " 90: [(3, 9), (9, 3)],\n",
       " 97: [(4, 9), (9, 4)],\n",
       " 98: [(7, 7)]}"
      ]
     },
     "execution_count": 14,
     "metadata": {},
     "output_type": "execute_result"
    }
   ],
   "source": [
    "# here I generlize the modulo to my renge \n",
    "#This code takes a little bit of time be patient\n",
    "sum_of_square_database = {}\n",
    "n = 1\n",
    "while n <= 100:\n",
    "    for m in range (100):\n",
    "        my_lst = []\n",
    "        for a in range(100):\n",
    "            for b in range(100):\n",
    "                if m%n == 0:\n",
    "                    if a%n == 0:\n",
    "                        if b%n == 0:\n",
    "                            if m == (a^2 + b^2):\n",
    "                                my_lst.append((a,b))\n",
    "                                sum_of_square_database[m] = my_lst\n",
    "    n += 1\n",
    "sum_of_square_database\n",
    "            \n",
    "        "
   ]
  },
  {
   "cell_type": "markdown",
   "metadata": {},
   "source": []
  },
  {
   "cell_type": "markdown",
   "metadata": {},
   "source": [
    "Can you think of a way to solve this problem? _Hint: What do you know about equations of this form $n = a^{2} + b ^{2}$?_"
   ]
  },
  {
   "cell_type": "code",
   "execution_count": 1,
   "metadata": {},
   "outputs": [
    {
     "data": {
      "image/png": "[encoded data removed]",
      "text/plain": [
       "Graphics object consisting of 2 graphics primitives"
      ]
     },
     "execution_count": 1,
     "metadata": {},
     "output_type": "execute_result"
    }
   ],
   "source": [
    "var('y')\n",
    "n = 25\n",
    "P = implicit_plot( x^2 + y^2 == n, (x, -sqrt(n), sqrt(n)), (y, -sqrt(n), sqrt(n)) )\n",
    "lattice_pts = [ [i,j] for i in [floor(-sqrt(n))..ceil(sqrt(n))] for j in [floor(-sqrt(n))..ceil(sqrt(n))] ]\n",
    "plot_lattice_pts = points(lattice_pts, rgbcolor = (0, 0, 0), pointsize = 10)\n",
    "P + plot_lattice_pts"
   ]
  },
  {
   "cell_type": "markdown",
   "metadata": {},
   "source": [
    "This brings up the question of how to do such plotting in the first place? We will look at this in more detail in the next [**Section**](#more-plotting-and-graphics-in-two-dimensions)."
   ]
  },
  {
   "cell_type": "markdown",
   "metadata": {},
   "source": [
    "## More Plotting and Graphics in Two Dimensions <a class = \"anchor\" id = \"more-plotting-and-graphics-in-two-dimensions\"></a>\n",
    "There is absolutely no way we could cover all the graphics in _SageMath_ (or the program that does it for _SageMath_, <a href=\"http://matplotlib.org/\" target=\"_blank\">matplotlib</a>) in one day, or even a week. We will look at a bunch of different resources you have access to, and see lots of different plot types. As we go through these resources, think of how they will be of in solving our new experiment or where you could have used them some time back in your academic career. I definitely do not know everything about the plotting command. Nevertheless, you may interrupt me with your question so that we can explore the solution together. \n",
    "\n",
    "   * We will begin with the [advanced 2D-plotting](http://localhost:8891/kernelspecs/sagemath/doc/prep/Advanced-2DPlotting.html) in the built-in live documentation. (This link only works if you are already using _SageMath_; the [non-live version is here](http://www.sagemath.org/doc/prep/Advanced-2DPlotting.html).\n",
    "   * There are two very important pages with many, MANY examples - the documentation for [plot](http://www.sagemath.org/doc/reference/plotting/sage/plot/plot.html) and that for [showing graphics](http://www.sagemath.org/doc/reference/plotting/sage/plot/graphics.html#sage.plot.graphics.Graphics.show).\n",
    "   * The [general plotting reference](http://www.sagemath.org/doc/reference/plotting/index.html) - there are a lot of surprises, like animation, etc.\n",
    "\n",
    "Remember, you should feel free to stop listening for a while if you can want to try something out!  \n",
    "Once we've seen enough examples, please either start using _SageMath_ to explore the sums of squares, _or_ try to recreate your favorite graphic using _SageMath_!"
   ]
  }
 ],
 "metadata": {
  "kernelspec": {
   "display_name": "SageMath 9.7",
   "language": "sage",
   "name": "sagemath"
  },
  "language_info": {
   "codemirror_mode": {
    "name": "ipython",
    "version": 3
   },
   "file_extension": ".py",
   "mimetype": "text/x-python",
   "name": "python",
   "nbconvert_exporter": "python",
   "pygments_lexer": "ipython3",
   "version": "3.9.2"
  },
  "varInspector": {
   "cols": {
    "lenName": 16,
    "lenType": 16,
    "lenVar": 40
   },
   "kernels_config": {
    "python": {
     "delete_cmd_postfix": "",
     "delete_cmd_prefix": "del ",
     "library": "var_list.py",
     "varRefreshCmd": "print(var_dic_list())"
    },
    "r": {
     "delete_cmd_postfix": ") ",
     "delete_cmd_prefix": "rm(",
     "library": "var_list.r",
     "varRefreshCmd": "cat(var_dic_list()) "
    }
   },
   "types_to_exclude": [
    "module",
    "function",
    "builtin_function_or_method",
    "instance",
    "_Feature"
   ],
   "window_display": false
  }
 },
 "nbformat": 4,
 "nbformat_minor": 4
}

{
 "cells": [
  {
   "cell_type": "markdown",
   "metadata": {},
   "source": [
    "<img src=\"./images/aims-za-logo.jpeg\" alt=\"drawing\" style=\"width:400px;\"/>\n",
    "<h1 style=\"text-align: center;\"><a title=\"EMS-AIMS-ZA-2022-23\" href=\"https://course-website\">Experimental Mathematics Using SageMath — AIMS-ZA-2022-23</a></h1>\n",
    "\n",
    "\n",
    "## Instructors: \n",
    "\n",
    "* **Yaé Gaba**\n"
   ]
  },
  {
   "cell_type": "markdown",
   "metadata": {},
   "source": [
    "## Day 12 — More on Pieces of Numbers <a class=\"anchor\" id=\"more-on-pieces-of-numbers\"></a>\n",
    "\n",
    "[comment]: <> (<h2 style=\"text-align: left;\">Day 09 — Introduction to <a title=\"SageMath\"href=\"http://www.sagemath.org/\"><em>SageMath</em></a>: A Mathematics Software for All</h2>)\n",
    "\n",
    "\n"
   ]
  },
  {
   "cell_type": "markdown",
   "metadata": {},
   "source": [
    "\n",
    "In yesterday's lecture], we looked at the number of integer partitions $p(n)$ of an positive integer $n$. A parition of $n$ is defined as a representation of $n$ as a sum of positive integers, called summands or parts of the partition. The order of the summands is irrelevant. We then came up with posed the following statements and questions:\n",
    "    \n",
    "    \n",
    "1. The number of partitions of $n$ with even parts. This is notated $p(n\\,|\\,\\text{even parts})$.</p>\n",
    "\n",
    "\n",
    "\n",
    "2. The number of partitions of $n$ with odd parts. This is notated $p(n\\,|\\,\\text{odd parts})$.</p>\n",
    "\n",
    "\n",
    "3. The number of partitions of $n$ with repeated parts. This is notated $p(n\\,|\\,\\text{repeated parts})$.</p>\n",
    "\n",
    "\n",
    "\n",
    "4. The number of partitions of $n$ with distinct parts;  that is, all the numbers in the partition are different. This is notated $p(n\\,|\\,\\text{distinct parts})$.\n",
    "\n",
    "\n",
    "_SageMath_ has built-in capabilities to compute partitions.  There are two classes for integer partitions in Sage; namely _Partition_ and _Partitions_. The former takes a list of non-increasing list of integers which represent a partition of a given integer as argument whiles the later takes a positive integer. We will be working with the _Partitions_ class. But let us take a look at the difference between these two classes.\n",
    "\n",
    "The class _Partition_ with a list non-increasing integers as an it argument, instantiates a fixed partition object with the given input list. For example:"
   ]
  },
  {
   "cell_type": "code",
   "execution_count": 1,
   "metadata": {},
   "outputs": [
    {
     "data": {
      "text/plain": [
       "[3, 2, 1, 1, 1]"
      ]
     },
     "execution_count": 1,
     "metadata": {},
     "output_type": "execute_result"
    }
   ],
   "source": [
    "fixed_partition_obj = Partition([3,2,1,1,1]); fixed_partition_obj"
   ]
  },
  {
   "cell_type": "markdown",
   "metadata": {},
   "source": [
    "<p>But the class <strong>Partitions</strong> with an integer as its argument instantiates a domain containing all the partitions of $n$. For example we can create a domain for all the partitions of an integer say, $8$.</p>"
   ]
  },
  {
   "cell_type": "code",
   "execution_count": 2,
   "metadata": {},
   "outputs": [
    {
     "data": {
      "text/plain": [
       "Partitions of the integer 8"
      ]
     },
     "execution_count": 2,
     "metadata": {},
     "output_type": "execute_result"
    }
   ],
   "source": [
    "all_partitions_of_eight = Partitions(8); all_partitions_of_eight"
   ]
  },
  {
   "cell_type": "markdown",
   "metadata": {},
   "source": [
    "<p>Do you remember what <span id=\"cell_outer_34\"><code class=\"docutils literal\"><span class=\"pre\">all_partitions_of_eight</span></code></span> is? Let us remind ourselves if we have forgotten.</p>"
   ]
  },
  {
   "cell_type": "code",
   "execution_count": 3,
   "metadata": {},
   "outputs": [
    {
     "data": {
      "text/plain": [
       "Partitions of the integer 8"
      ]
     },
     "execution_count": 3,
     "metadata": {},
     "output_type": "execute_result"
    }
   ],
   "source": [
    "all_partitions_of_eight"
   ]
  },
  {
   "cell_type": "markdown",
   "metadata": {},
   "source": [
    "<p>Can you create all partitions of 5?</p>"
   ]
  },
  {
   "cell_type": "markdown",
   "metadata": {},
   "source": [
    "<p>With the <span id=\"cell_outer_34\"><code class=\"docutils literal\"><span class=\"pre\">list</span></code></span> method, I can list all the partitions of $8$ by doing the following</p>"
   ]
  },
  {
   "cell_type": "code",
   "execution_count": 4,
   "metadata": {},
   "outputs": [
    {
     "data": {
      "text/plain": [
       "[[8],\n",
       " [7, 1],\n",
       " [6, 2],\n",
       " [6, 1, 1],\n",
       " [5, 3],\n",
       " [5, 2, 1],\n",
       " [5, 1, 1, 1],\n",
       " [4, 4],\n",
       " [4, 3, 1],\n",
       " [4, 2, 2],\n",
       " [4, 2, 1, 1],\n",
       " [4, 1, 1, 1, 1],\n",
       " [3, 3, 2],\n",
       " [3, 3, 1, 1],\n",
       " [3, 2, 2, 1],\n",
       " [3, 2, 1, 1, 1],\n",
       " [3, 1, 1, 1, 1, 1],\n",
       " [2, 2, 2, 2],\n",
       " [2, 2, 2, 1, 1],\n",
       " [2, 2, 1, 1, 1, 1],\n",
       " [2, 1, 1, 1, 1, 1, 1],\n",
       " [1, 1, 1, 1, 1, 1, 1, 1]]"
      ]
     },
     "execution_count": 4,
     "metadata": {},
     "output_type": "execute_result"
    }
   ],
   "source": [
    "all_partitions_of_eight.list()"
   ]
  },
  {
   "cell_type": "markdown",
   "metadata": {},
   "source": [
    "<p>List all partitions of $5$.</p>"
   ]
  },
  {
   "cell_type": "code",
   "execution_count": 8,
   "metadata": {},
   "outputs": [
    {
     "data": {
      "text/plain": [
       "[[5], [4, 1], [3, 2], [3, 1, 1], [2, 2, 1], [2, 1, 1, 1], [1, 1, 1, 1, 1]]"
      ]
     },
     "execution_count": 8,
     "metadata": {},
     "output_type": "execute_result"
    }
   ],
   "source": [
    "all_partitions_Five = Partitions(5).list()\n",
    "all_partitions_Five"
   ]
  },
  {
   "cell_type": "markdown",
   "metadata": {},
   "source": [
    "Spend some time reading the _SageMath_ documention on **Partitions**. Get familiar with the syntax and read the remaining part of the notebook. "
   ]
  },
  {
   "cell_type": "code",
   "execution_count": 9,
   "metadata": {},
   "outputs": [],
   "source": [
    "Partitions?"
   ]
  },
  {
   "cell_type": "markdown",
   "metadata": {},
   "source": [
    "<p>Using <code class=\"docutils literal\"><span class=\"pre\">max_slope=-1</span></code> I can produce all partitions of an $n$ into distinct parts; that is, each part differs from the next by at least 1. Use a different <code class=\"docutils literal\"><span class=\"pre\">max_slope</span></code> to get parts that differ by, say, 2. I want to know all the partitions of $8$ with distinct parts.</p>"
   ]
  },
  {
   "cell_type": "code",
   "execution_count": 10,
   "metadata": {},
   "outputs": [
    {
     "data": {
      "text/plain": [
       "[[8], [7, 1], [6, 2], [5, 3], [5, 2, 1], [4, 3, 1]]"
      ]
     },
     "execution_count": 10,
     "metadata": {},
     "output_type": "execute_result"
    }
   ],
   "source": [
    "list(Partitions(8, max_slope = -1))"
   ]
  },
  {
   "cell_type": "markdown",
   "metadata": {},
   "source": [
    "<p>Do same for partitions of $5$.</p>"
   ]
  },
  {
   "cell_type": "code",
   "execution_count": 11,
   "metadata": {},
   "outputs": [
    {
     "data": {
      "text/plain": [
       "[[5], [4, 1], [3, 2]]"
      ]
     },
     "execution_count": 11,
     "metadata": {},
     "output_type": "execute_result"
    }
   ],
   "source": [
    "all_partitions_Five = Partitions(5, max_slope = -1).list()\n",
    "all_partitions_Five"
   ]
  },
  {
   "cell_type": "markdown",
   "metadata": {},
   "source": [
    "<p class=\"pre\">How about if I want to list all partitions of $n$ with either odd or even parts? I can do that with the <code class=\"docutils literal\"><span class=\"pre\">parts_in</span></code> option.</p>"
   ]
  },
  {
   "cell_type": "code",
   "execution_count": 12,
   "metadata": {},
   "outputs": [
    {
     "data": {
      "text/plain": [
       "[[8], [6, 2], [4, 4], [4, 2, 2], [2, 2, 2, 2]]"
      ]
     },
     "execution_count": 12,
     "metadata": {},
     "output_type": "execute_result"
    }
   ],
   "source": [
    "list(Partitions(8, parts_in = [2,4..8])) # all partitions of eight with even parts"
   ]
  },
  {
   "cell_type": "code",
   "execution_count": 24,
   "metadata": {},
   "outputs": [
    {
     "data": {
      "text/plain": [
       "[]"
      ]
     },
     "execution_count": 24,
     "metadata": {},
     "output_type": "execute_result"
    }
   ],
   "source": [
    "all_partitions_Five = Partitions(5, parts_in = [2,4..5]).list()\n",
    "all_partitions_Five\n",
    "#because there is not two even number give us 5 for that we have an empty list"
   ]
  },
  {
   "cell_type": "markdown",
   "metadata": {},
   "source": [
    "<p>List all the partitions of $5$ with odd parts.</p>"
   ]
  },
  {
   "cell_type": "markdown",
   "metadata": {},
   "source": [
    "<p>With the <span id=\"cell_outer_34\"><code class=\"docutils literal\"><span class=\"pre\">cardinality</span></code></span> method I can compute the number of such partitions.</p>"
   ]
  },
  {
   "cell_type": "code",
   "execution_count": 25,
   "metadata": {},
   "outputs": [
    {
     "data": {
      "text/plain": [
       "5"
      ]
     },
     "execution_count": 25,
     "metadata": {},
     "output_type": "execute_result"
    }
   ],
   "source": [
    "Partitions(8, parts_in = [2,4..8]).cardinality()"
   ]
  },
  {
   "cell_type": "markdown",
   "metadata": {},
   "source": [
    "<p>How many partitions of $5$ with old parts are there?</p>"
   ]
  },
  {
   "cell_type": "code",
   "execution_count": 27,
   "metadata": {},
   "outputs": [
    {
     "data": {
      "text/plain": [
       "7"
      ]
     },
     "execution_count": 27,
     "metadata": {},
     "output_type": "execute_result"
    }
   ],
   "source": [
    "all_partitions_Five = Partitions(5).cardinality()\n",
    "all_partitions_Five"
   ]
  },
  {
   "cell_type": "markdown",
   "metadata": {},
   "source": [
    "<p>With <code class=\"docutils literal\"><span class=\"pre\">min_length=k</span></code>, I can get those partitions that have at least $k$ parts. Let's list all partitions of $8$ with at least $4$ parts and compute its cardinality.</p>"
   ]
  },
  {
   "cell_type": "code",
   "execution_count": 28,
   "metadata": {},
   "outputs": [
    {
     "data": {
      "text/plain": [
       "[[5, 1, 1, 1],\n",
       " [4, 2, 1, 1],\n",
       " [4, 1, 1, 1, 1],\n",
       " [3, 3, 1, 1],\n",
       " [3, 2, 2, 1],\n",
       " [3, 2, 1, 1, 1],\n",
       " [3, 1, 1, 1, 1, 1],\n",
       " [2, 2, 2, 2],\n",
       " [2, 2, 2, 1, 1],\n",
       " [2, 2, 1, 1, 1, 1],\n",
       " [2, 1, 1, 1, 1, 1, 1],\n",
       " [1, 1, 1, 1, 1, 1, 1, 1]]"
      ]
     },
     "execution_count": 28,
     "metadata": {},
     "output_type": "execute_result"
    }
   ],
   "source": [
    "Partitions(8, min_length=4).list()"
   ]
  },
  {
   "cell_type": "code",
   "execution_count": 29,
   "metadata": {},
   "outputs": [
    {
     "data": {
      "text/plain": [
       "12"
      ]
     },
     "execution_count": 29,
     "metadata": {},
     "output_type": "execute_result"
    }
   ],
   "source": [
    "len(Partitions(8, min_length=4).list())"
   ]
  },
  {
   "cell_type": "markdown",
   "metadata": {},
   "source": [
    "<p>List all the partitions of $5$ with at least $2$ parts and compute its cardinality.</p>"
   ]
  },
  {
   "cell_type": "code",
   "execution_count": 30,
   "metadata": {},
   "outputs": [
    {
     "data": {
      "text/plain": [
       "[[4, 1], [3, 2], [3, 1, 1], [2, 2, 1], [2, 1, 1, 1], [1, 1, 1, 1, 1]]"
      ]
     },
     "execution_count": 30,
     "metadata": {},
     "output_type": "execute_result"
    }
   ],
   "source": [
    "all_partitions_Five = Partitions(5, min_length = 2).list()\n",
    "all_partitions_Five"
   ]
  },
  {
   "cell_type": "code",
   "execution_count": 32,
   "metadata": {},
   "outputs": [
    {
     "data": {
      "text/plain": [
       "6"
      ]
     },
     "execution_count": 32,
     "metadata": {},
     "output_type": "execute_result"
    }
   ],
   "source": [
    "all_partitions_Five = len(Partitions(5, min_length = 2))\n",
    "all_partitions_Five"
   ]
  },
  {
   "cell_type": "markdown",
   "metadata": {},
   "source": [
    "<p>We can also list all the partitions of $n$ with parts that are at least $k$ with <code class=\"docutils literal\"><span class=\"pre\">min_part=k</span></code>. Let's list all the partitions of $8$ with parts that are at least $3$ and find its cardinality.</p>"
   ]
  },
  {
   "cell_type": "code",
   "execution_count": 33,
   "metadata": {},
   "outputs": [
    {
     "data": {
      "text/plain": [
       "[[8], [5, 3], [4, 4]]"
      ]
     },
     "execution_count": 33,
     "metadata": {},
     "output_type": "execute_result"
    }
   ],
   "source": [
    "Partitions(8, min_part=3).list()"
   ]
  },
  {
   "cell_type": "code",
   "execution_count": 34,
   "metadata": {},
   "outputs": [
    {
     "data": {
      "text/plain": [
       "3"
      ]
     },
     "execution_count": 34,
     "metadata": {},
     "output_type": "execute_result"
    }
   ],
   "source": [
    "Partitions(8, min_part=3).cardinality()"
   ]
  },
  {
   "cell_type": "markdown",
   "metadata": {},
   "source": [
    "<p>List all the partitions of $5$ with parts that are at least $2$ and find its cardinality.</p>"
   ]
  },
  {
   "cell_type": "code",
   "execution_count": 36,
   "metadata": {},
   "outputs": [
    {
     "data": {
      "text/plain": [
       "[[5], [3, 2]]"
      ]
     },
     "execution_count": 36,
     "metadata": {},
     "output_type": "execute_result"
    }
   ],
   "source": [
    "all_partitions_Five = Partitions(5, min_part = 2).list()\n",
    "all_partitions_Five"
   ]
  },
  {
   "cell_type": "code",
   "execution_count": 37,
   "metadata": {},
   "outputs": [
    {
     "data": {
      "text/plain": [
       "2"
      ]
     },
     "execution_count": 37,
     "metadata": {},
     "output_type": "execute_result"
    }
   ],
   "source": [
    "all_partitions_Five = Partitions(5, min_part = 2).cardinality()\n",
    "all_partitions_Five"
   ]
  },
  {
   "cell_type": "markdown",
   "metadata": {},
   "source": [
    "<p>What if I want the number of partitions of $n$ with exactly $k$ parts? We can do this with the <span id=\"cell_outer_34\"><code class=\"docutils literal\"><span class=\"pre\">length</span></code></span> option. For example, let us find the number of partitions of $8$ with exactly $3$ parts and list them.</p>"
   ]
  },
  {
   "cell_type": "code",
   "execution_count": 38,
   "metadata": {},
   "outputs": [
    {
     "data": {
      "text/plain": [
       "5"
      ]
     },
     "execution_count": 38,
     "metadata": {},
     "output_type": "execute_result"
    }
   ],
   "source": [
    "Partitions(8, length=3).cardinality()"
   ]
  },
  {
   "cell_type": "code",
   "execution_count": 39,
   "metadata": {},
   "outputs": [
    {
     "data": {
      "text/plain": [
       "[[6, 1, 1], [5, 2, 1], [4, 3, 1], [4, 2, 2], [3, 3, 2]]"
      ]
     },
     "execution_count": 39,
     "metadata": {},
     "output_type": "execute_result"
    }
   ],
   "source": [
    "Partitions(8, length=3).list()"
   ]
  },
  {
   "cell_type": "markdown",
   "metadata": {},
   "source": [
    "<p>Now find the number of partitions of $5$ with exactly $3$ parts and list them.</p>"
   ]
  },
  {
   "cell_type": "code",
   "execution_count": 40,
   "metadata": {},
   "outputs": [
    {
     "data": {
      "text/plain": [
       "2"
      ]
     },
     "execution_count": 40,
     "metadata": {},
     "output_type": "execute_result"
    }
   ],
   "source": [
    "all_partitions_Five = Partitions(5, length = 3).cardinality()\n",
    "all_partitions_Five"
   ]
  },
  {
   "cell_type": "code",
   "execution_count": 41,
   "metadata": {},
   "outputs": [
    {
     "data": {
      "text/plain": [
       "[[3, 1, 1], [2, 2, 1]]"
      ]
     },
     "execution_count": 41,
     "metadata": {},
     "output_type": "execute_result"
    }
   ],
   "source": [
    "all_partitions_Five = Partitions(5, length = 3).list()\n",
    "all_partitions_Five"
   ]
  },
  {
   "cell_type": "markdown",
   "metadata": {},
   "source": [
    "<p>We can even combine all these options. Say for example we want to list all the partitions of $10$ with exactly $3$ parts such that these parts are at least $2$.</p>"
   ]
  },
  {
   "cell_type": "code",
   "execution_count": 42,
   "metadata": {},
   "outputs": [
    {
     "data": {
      "text/plain": [
       "[[6, 2, 2], [5, 3, 2], [4, 4, 2], [4, 3, 3]]"
      ]
     },
     "execution_count": 42,
     "metadata": {},
     "output_type": "execute_result"
    }
   ],
   "source": [
    "Partitions(10, min_part=2, length=3).list()"
   ]
  },
  {
   "cell_type": "markdown",
   "metadata": {},
   "source": [
    "<p>List all the partitions of $15$ with exactly $4$ parts such that these parts are at least $5$.</p>"
   ]
  },
  {
   "cell_type": "code",
   "execution_count": 46,
   "metadata": {},
   "outputs": [
    {
     "data": {
      "text/plain": [
       "[]"
      ]
     },
     "execution_count": 46,
     "metadata": {},
     "output_type": "execute_result"
    }
   ],
   "source": [
    "all_partitions_Fifteen = Partitions(15, min_part = 5, length = 4).list()\n",
    "all_partitions_Fifteen\n",
    "# I will have an empty list because the the list that has at 5 is has in max three elements\n",
    "#as you can see in the down cell"
   ]
  },
  {
   "cell_type": "code",
   "execution_count": 48,
   "metadata": {},
   "outputs": [
    {
     "data": {
      "text/plain": [
       "[[15], [10, 5], [9, 6], [8, 7], [5, 5, 5]]"
      ]
     },
     "execution_count": 48,
     "metadata": {},
     "output_type": "execute_result"
    }
   ],
   "source": [
    "all_partitions_Fifteen = Partitions(15,min_part = 5).list()\n",
    "all_partitions_Fifteen"
   ]
  },
  {
   "cell_type": "markdown",
   "metadata": {},
   "source": [
    "<p>Now let us use these tools to explore if we can find some relation between the some of the statements we made and if possible make some conjectures and try to prove them. In your explorations try to use all the tools in programming you have been equipped with. Some more questions we could ask are:</p>\n",
    "<p> </p>\n",
    "<ol>\n",
    "<li>\n",
    "<p>The number of partitions of $n$ with prime parts. This is notated $p(n\\,|\\,\\text{prime parts})$. </p>\n",
    "</li>\n",
    "<li>\n",
    "<p>The number of partitions of $n$ with parts whose product is equal to $n$. This is notated $p(n\\,|\\,\\text{product of parts is } n)$.</p>\n",
    "</li>\n",
    "<li>\n",
    "<p>The number of partitions of $n$ with at least $1$ odd part. This is notated $p(n\\,|\\,\\text{at least one odd part})$.</p>\n",
    "</li>\n",
    "<li>\n",
    "<p>The number of partitions of $n$ with at least $1$ even part. This is notated $p(n\\,|\\,\\text{at least one even part})$.</p>\n",
    "</li>\n",
    "<li>\n",
    "<p>The number of partitions of $n$ given that $n$ is an Armstrong number. (<a href=\"http://www.google.com/url?q=http%3A%2F%2Fmathworld.wolfram.com%2FNarcissisticNumber.html&sa=D&sntz=1&usg=AFQjCNEwjg2IJS7wVU1aY8ZHSzdMRYxKmA\" target=\"_blank\">See</a> for the definition of an Armstrong number).</p>\n",
    "</li>\n",
    "<li>\n",
    "<p>Is there a distribution for the number of partitions of $n$? If so find such a distribution.</p>\n",
    "</li>\n",
    "<li>\n",
    "<p>Is there a formula for computing the number of partitions of $n$? If so find it.</p>\n",
    "</li>\n",
    "<li>\n",
    "<p>Given that $p$ is a perfect square, say $p=n^{2}$ for some integer $n$. Is there a relation between the number of partitions of $p$ and the number of partitions of $n$?</p>\n",
    "</li>\n",
    "<li>\n",
    "<p>The number of 1's in each a partition of $n$.</p>\n",
    "</li>\n",
    "</ol>\n",
    "<p>Our goal today is to explore some of them and see if there is an relation between them or some underlying hidden structure that can be observed and studied.</p>"
   ]
  },
  {
   "cell_type": "code",
   "execution_count": 57,
   "metadata": {},
   "outputs": [
    {
     "data": {
      "text/plain": [
       "[[7, 3], [5, 5], [5, 3, 2], [3, 3, 2, 2], [2, 2, 2, 2, 2]]"
      ]
     },
     "execution_count": 57,
     "metadata": {},
     "output_type": "execute_result"
    }
   ],
   "source": [
    "# Q 1\n",
    "#for the prime number I can use patr in to find the prime number in range 10\n",
    "all_partitions_Ten = Partitions(10, parts_in = [2,3,5,7..10]).list()\n",
    "all_partitions_Ten"
   ]
  },
  {
   "cell_type": "code",
   "execution_count": 58,
   "metadata": {},
   "outputs": [
    {
     "data": {
      "text/plain": [
       "[[10]]"
      ]
     },
     "execution_count": 58,
     "metadata": {},
     "output_type": "execute_result"
    }
   ],
   "source": [
    "#Q 2 \n",
    "#to show the products = to n we can use also pwrt in just\n",
    "all_partitions_Ten = Partitions(10, parts_in = [10]).list()\n",
    "all_partitions_Ten"
   ]
  },
  {
   "cell_type": "code",
   "execution_count": 62,
   "metadata": {},
   "outputs": [
    {
     "data": {
      "text/plain": [
       "[[9, 1],\n",
       " [7, 3],\n",
       " [7, 1, 1, 1],\n",
       " [5, 5],\n",
       " [5, 3, 1, 1],\n",
       " [5, 1, 1, 1, 1, 1],\n",
       " [3, 3, 3, 1],\n",
       " [3, 3, 1, 1, 1, 1],\n",
       " [3, 1, 1, 1, 1, 1, 1, 1],\n",
       " [1, 1, 1, 1, 1, 1, 1, 1, 1, 1]]"
      ]
     },
     "execution_count": 62,
     "metadata": {},
     "output_type": "execute_result"
    }
   ],
   "source": [
    "#Q 3\n",
    "# to show at least one odd we can call just the odd numbers as follows\n",
    "all_partitions_Ten = Partitions(10, parts_in = [1,3,5,7,9..10]).list()\n",
    "all_partitions_Ten"
   ]
  },
  {
   "cell_type": "code",
   "execution_count": 63,
   "metadata": {},
   "outputs": [
    {
     "data": {
      "text/plain": [
       "[[10], [8, 2], [6, 4], [6, 2, 2], [4, 4, 2], [4, 2, 2, 2], [2, 2, 2, 2, 2]]"
      ]
     },
     "execution_count": 63,
     "metadata": {},
     "output_type": "execute_result"
    }
   ],
   "source": [
    "#Q 4\n",
    "#here i can print only even numbers\n",
    "all_partitions_Ten = Partitions(10, parts_in = [2,4,6,8..10]).list()\n",
    "all_partitions_Ten"
   ]
  },
  {
   "cell_type": "markdown",
   "metadata": {},
   "source": [
    "### Q6\n",
    "from previous questions we can see clearly that for the small number for n < 5 I notice that  I can use Fiboncci formula which is $f_n = f_{n-1} + f_{n-2}$\n"
   ]
  },
  {
   "cell_type": "markdown",
   "metadata": {},
   "source": [
    "### Q7\n",
    "But for n greater that that will not be valid, also there is no formula to calculate the integer partitions presicely but there is a pproxcimation formula that may be useful $p(n) = \\frac{1e^{\\pi\\sqrt{2n}/{3}}}{4n\\sqrt{3}}$"
   ]
  },
  {
   "cell_type": "code",
   "execution_count": 66,
   "metadata": {},
   "outputs": [
    {
     "name": "stdout",
     "output_type": "stream",
     "text": [
      "[[]]\n",
      "[[1]]\n",
      "[[4], [3, 1], [2, 2], [2, 1, 1], [1, 1, 1, 1]]\n",
      "[[9], [8, 1], [7, 2], [7, 1, 1], [6, 3], [6, 2, 1], [6, 1, 1, 1], [5, 4], [5, 3, 1], [5, 2, 2], [5, 2, 1, 1], [5, 1, 1, 1, 1], [4, 4, 1], [4, 3, 2], [4, 3, 1, 1], [4, 2, 2, 1], [4, 2, 1, 1, 1], [4, 1, 1, 1, 1, 1], [3, 3, 3], [3, 3, 2, 1], [3, 3, 1, 1, 1], [3, 2, 2, 2], [3, 2, 2, 1, 1], [3, 2, 1, 1, 1, 1], [3, 1, 1, 1, 1, 1, 1], [2, 2, 2, 2, 1], [2, 2, 2, 1, 1, 1], [2, 2, 1, 1, 1, 1, 1], [2, 1, 1, 1, 1, 1, 1, 1], [1, 1, 1, 1, 1, 1, 1, 1, 1]]\n"
     ]
    }
   ],
   "source": [
    "# Q 8\n",
    "# for this Q we need to use for loop to check that\n",
    "\n",
    "for p in range (10):\n",
    "    for n in range(10):\n",
    "        if p == n^2:\n",
    "            r = Partitions(p).list()\n",
    "            print(r)"
   ]
  },
  {
   "cell_type": "code",
   "execution_count": null,
   "metadata": {},
   "outputs": [],
   "source": []
  },
  {
   "cell_type": "markdown",
   "metadata": {},
   "source": [
    "<p>For each of the question above, is there a geometric interpretation?</p>"
   ]
  },
  {
   "cell_type": "code",
   "execution_count": null,
   "metadata": {},
   "outputs": [],
   "source": []
  },
  {
   "cell_type": "markdown",
   "metadata": {},
   "source": [
    "<p>Can you think of any more question one ould ask? Kindly list three of them and expplore. See if you can derive a conjecture and prove it. You do not have to come up with a complete proof of your conjecture, but we are interestedin the way way you came about it and how you intend to prove it.</p>"
   ]
  },
  {
   "cell_type": "code",
   "execution_count": null,
   "metadata": {},
   "outputs": [],
   "source": []
  }
 ],
 "metadata": {
  "kernelspec": {
   "display_name": "SageMath 9.7",
   "language": "sage",
   "name": "sagemath"
  },
  "language": "python",
  "language_info": {
   "codemirror_mode": {
    "name": "ipython",
    "version": 3
   },
   "file_extension": ".py",
   "mimetype": "text/x-python",
   "name": "python",
   "nbconvert_exporter": "python",
   "pygments_lexer": "ipython3",
   "version": "3.9.2"
  },
  "varInspector": {
   "cols": {
    "lenName": 16,
    "lenType": 16,
    "lenVar": 40
   },
   "kernels_config": {
    "python": {
     "delete_cmd_postfix": "",
     "delete_cmd_prefix": "del ",
     "library": "var_list.py",
     "varRefreshCmd": "print(var_dic_list())"
    },
    "r": {
     "delete_cmd_postfix": ") ",
     "delete_cmd_prefix": "rm(",
     "library": "var_list.r",
     "varRefreshCmd": "cat(var_dic_list()) "
    }
   },
   "types_to_exclude": [
    "module",
    "function",
    "builtin_function_or_method",
    "instance",
    "_Feature"
   ],
   "window_display": false
  }
 },
 "nbformat": 4,
 "nbformat_minor": 2
}

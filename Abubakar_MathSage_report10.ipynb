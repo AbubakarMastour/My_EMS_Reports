{
 "cells": [
  {
   "cell_type": "markdown",
   "metadata": {},
   "source": [
    "<img src=\"./images/aims-za-logo.jpeg\" alt=\"drawing\" style=\"width:400px;\"/>\n",
    "<h1 style=\"text-align: center;\"><a title=\"EMS-AIMS-ZA-2022-23\" href=\"https://course-website\">Experimental Mathematics Using SageMath — AIMS-ZA-2022-23</a></h1>\n",
    "\n",
    "\n",
    "## Instructors: \n",
    "\n",
    "* **Yaé Gaba**\n"
   ]
  },
  {
   "cell_type": "markdown",
   "metadata": {},
   "source": [
    "## Day 11 — Pieces of Numbers <a class=\"anchor\" id=\"pieces-of-numbers\"></a>\n",
    "\n",
    "[comment]: <> (<h2 style=\"text-align: left;\">Day 08 — Introduction to <a title=\"SageMath\"href=\"http://www.sagemath.org/\"><em>SageMath</em></a>: A Mathematics Software for All</h2>)\n",
    "\n",
    "We will spend some time learning about a very simple new concept - one that only requires addition.  We'll explore it.\n",
    "\n",
    "\n",
    "The outline of the this notebook is as follows:\n",
    "\n",
    "\n",
    "## Table of Contents: <a class=\"anchor\" id=\"day-08-toc\"></a> \n",
    "[comment]: <> (The simplest addition)\n",
    "* [ ] [<font color=blue> Pieces of Numbers</font>](#the-simplest-addition)\n",
    "    * [<font color=blue>Exploring Questions</font>](#exploring-questions)\n",
    "       * [<font color=blue>Exploration 1</font>](#exploration-1)\n",
    "       * [<font color=blue>Exploration 2</font>](#exploration-2)\n",
    "       * [<font color=blue>Exploration 3</font>](#exploration-3)\n",
    "       * [<font color=blue>Exploration 4</font>](#exploration-4)\n",
    " "
   ]
  },
  {
   "cell_type": "markdown",
   "metadata": {},
   "source": [
    "\n",
    "## Pieces of Numbers -- The Simplest Addition <a class=\"anchor\" id=\"the-simplest-addition\"></a>\n",
    "\n",
    "\n",
    "Here is a question nearly every human could answer.\n",
    "    \n",
    "    \n",
    "How many ways can you divide a pile of $5$ sticks into (non-empty) piles?\n",
    "\n",
    "\n",
    "\n",
    "\n",
    "Let's see.\n",
    "    \n",
    "        \n",
    "    \n",
    "There is the trivial one where you don't divide it at all.  $5=5$.\n",
    "There is the one where you just make five piles of one stick each.  $1+1+1+1+1=5$.\n",
    "You could have four in one pile.  That leaves $4+1=5$.\n",
    "But if you have three in one pile, there are two ways to do the other two.\n",
    "\n",
    "$3+2=5$.\n",
    "$3+1+1=5$.\n",
    "\n",
    "\n",
    "\n",
    "\n",
    "Almost done!  I guess the only other possibility is if there are piles of $2$ and $1$.\n",
    "\n",
    "    \n",
    "    \n",
    "$2+2+1=5$.\n",
    "$2+1+1+1=5$.\n",
    "\n",
    "That makes seven ways in total.  We call these things _integer partitions_.  As George Andrews says in [this delightful little book](http://www.cambridge.org/gb/academic/subjects/mathematics/number-theory/integer-partitions): \"An integer partition is a way of splitting a number into integer parts.\"  More precisely, a partition of a nonnegative integer $n$ is a representation of $n$ as a sum of positive integers, called summands or parts of the partition. The order of the summands is irrelevant.</div>\n",
    "\n",
    "\n",
    "The function giving the number of partitions of $n$ is called $p(n)$.  So our example shows that $p(5)=7$.\n",
    "Amazingly, there are _real physics applications_ of this! See \n",
    "    [this list of articles](https://empslocal.ex.ac.uk/people/staff/mrwatkin/zeta/partitioning.htm) and [this more dubious example](https://www8.cs.umu.se/kurser/TDBA77/VT06/algorithms/BOOK/BOOK4/NODE153.HTM).  A typical quote: \"The number partitioning problem can be interpreted physically in terms of a thermally isolated noninteracting Bose gas trapped in a one-dimensional harmonic-oscillator potential.\"\n",
    "    \n"
   ]
  },
  {
   "cell_type": "markdown",
   "metadata": {},
   "source": [
    "#### Exploration 1 <a class=\"anchor\" id=\"exploration-1\"></a>\n",
    "Try to compute $p(n)$ for $n\\leq 10$.  Divide up this work in groups!  Maybe three or four people should work on each one, and then cross-check their work."
   ]
  },
  {
   "cell_type": "markdown",
   "metadata": {},
   "source": [
    "## There is a function already in sage to calculate an integer partition it called **Partitions** "
   ]
  },
  {
   "cell_type": "code",
   "execution_count": 13,
   "metadata": {},
   "outputs": [
    {
     "data": {
      "text/plain": [
       "[[5], [4, 1], [3, 2], [3, 1, 1], [2, 2, 1], [2, 1, 1, 1], [1, 1, 1, 1, 1]]"
      ]
     },
     "execution_count": 13,
     "metadata": {},
     "output_type": "execute_result"
    }
   ],
   "source": [
    "#if we need to know the list of the partitions we can use this function\n",
    "Partitions(5).list()"
   ]
  },
  {
   "cell_type": "code",
   "execution_count": 39,
   "metadata": {},
   "outputs": [
    {
     "data": {
      "text/plain": [
       "7"
      ]
     },
     "execution_count": 39,
     "metadata": {},
     "output_type": "execute_result"
    }
   ],
   "source": [
    "#also I can know the number of partitions using this function\n",
    "Partitions(5).cardinality()"
   ]
  },
  {
   "cell_type": "code",
   "execution_count": 17,
   "metadata": {},
   "outputs": [],
   "source": [
    "#Here you can discover many things about the Partitions\n",
    "Partitions??"
   ]
  },
  {
   "cell_type": "code",
   "execution_count": 40,
   "metadata": {},
   "outputs": [
    {
     "name": "stdout",
     "output_type": "stream",
     "text": [
      "[[]]\n",
      "[[1]]\n",
      "[[2], [1, 1]]\n",
      "[[3], [2, 1], [1, 1, 1]]\n",
      "[[4], [3, 1], [2, 2], [2, 1, 1], [1, 1, 1, 1]]\n",
      "[[5], [4, 1], [3, 2], [3, 1, 1], [2, 2, 1], [2, 1, 1, 1], [1, 1, 1, 1, 1]]\n",
      "[[6], [5, 1], [4, 2], [4, 1, 1], [3, 3], [3, 2, 1], [3, 1, 1, 1], [2, 2, 2], [2, 2, 1, 1], [2, 1, 1, 1, 1], [1, 1, 1, 1, 1, 1]]\n",
      "[[7], [6, 1], [5, 2], [5, 1, 1], [4, 3], [4, 2, 1], [4, 1, 1, 1], [3, 3, 1], [3, 2, 2], [3, 2, 1, 1], [3, 1, 1, 1, 1], [2, 2, 2, 1], [2, 2, 1, 1, 1], [2, 1, 1, 1, 1, 1], [1, 1, 1, 1, 1, 1, 1]]\n",
      "[[8], [7, 1], [6, 2], [6, 1, 1], [5, 3], [5, 2, 1], [5, 1, 1, 1], [4, 4], [4, 3, 1], [4, 2, 2], [4, 2, 1, 1], [4, 1, 1, 1, 1], [3, 3, 2], [3, 3, 1, 1], [3, 2, 2, 1], [3, 2, 1, 1, 1], [3, 1, 1, 1, 1, 1], [2, 2, 2, 2], [2, 2, 2, 1, 1], [2, 2, 1, 1, 1, 1], [2, 1, 1, 1, 1, 1, 1], [1, 1, 1, 1, 1, 1, 1, 1]]\n",
      "[[9], [8, 1], [7, 2], [7, 1, 1], [6, 3], [6, 2, 1], [6, 1, 1, 1], [5, 4], [5, 3, 1], [5, 2, 2], [5, 2, 1, 1], [5, 1, 1, 1, 1], [4, 4, 1], [4, 3, 2], [4, 3, 1, 1], [4, 2, 2, 1], [4, 2, 1, 1, 1], [4, 1, 1, 1, 1, 1], [3, 3, 3], [3, 3, 2, 1], [3, 3, 1, 1, 1], [3, 2, 2, 2], [3, 2, 2, 1, 1], [3, 2, 1, 1, 1, 1], [3, 1, 1, 1, 1, 1, 1], [2, 2, 2, 2, 1], [2, 2, 2, 1, 1, 1], [2, 2, 1, 1, 1, 1, 1], [2, 1, 1, 1, 1, 1, 1, 1], [1, 1, 1, 1, 1, 1, 1, 1, 1]]\n"
     ]
    }
   ],
   "source": [
    "#you calculate the 10 term using partition all of them in the same place\n",
    "# for loop is best way to do so\n",
    "for p in range (10):\n",
    "# then I assign my function to variable to use more feature with it \n",
    "#also to show show the result you need to use list\n",
    "    num_part = Partitions(p).list()\n",
    "# then you can print your variable \n",
    "    print(num_part)"
   ]
  },
  {
   "cell_type": "markdown",
   "metadata": {},
   "source": [
    "#### Exploration 2 <a class=\"anchor\" id=\"exploration-2\"></a>\n",
    "\n",
    "The question to explore is: \n",
    "\n",
    " * _Partitions of $n$ using only _odd_ parts.  This is notated $p(n \\mid \\text{ odd parts })$._\n"
   ]
  },
  {
   "cell_type": "code",
   "execution_count": 41,
   "metadata": {},
   "outputs": [
    {
     "name": "stdout",
     "output_type": "stream",
     "text": [
      "[[]]\n",
      "[[1]]\n",
      "[[1, 1]]\n",
      "[[3], [1, 1, 1]]\n",
      "[[3, 1], [1, 1, 1, 1]]\n",
      "[[5], [3, 1, 1], [1, 1, 1, 1, 1]]\n",
      "[[5, 1], [3, 3], [3, 1, 1, 1], [1, 1, 1, 1, 1, 1]]\n",
      "[[7], [5, 1, 1], [3, 3, 1], [3, 1, 1, 1, 1], [1, 1, 1, 1, 1, 1, 1]]\n",
      "[[7, 1], [5, 3], [5, 1, 1, 1], [3, 3, 1, 1], [3, 1, 1, 1, 1, 1], [1, 1, 1, 1, 1, 1, 1, 1]]\n",
      "[[9], [7, 1, 1], [5, 3, 1], [5, 1, 1, 1, 1], [3, 3, 3], [3, 3, 1, 1, 1], [3, 1, 1, 1, 1, 1, 1], [1, 1, 1, 1, 1, 1, 1, 1, 1]]\n"
     ]
    }
   ],
   "source": [
    "# here i will print only odd number, and sage has function to do so called parts_in\n",
    "# and this mean that this show me the number in this form only \n",
    "#also I find for loop best way to do that\n",
    "for p in range (10):\n",
    "    \n",
    "        num_part = Partitions(p, parts_in=[1,3,5,7,9]).list()\n",
    "        print(num_part)"
   ]
  },
  {
   "cell_type": "markdown",
   "metadata": {},
   "source": [
    "#### Exploration 3 <a class=\"anchor\" id=\"exploration-3\"></a>\n",
    "\n",
    "The question to explore is: \n",
    "\n",
    " * _Partitions of $n$ using only <em>even</em> parts, or $p(n \\mid \\text{ even parts })$._\n"
   ]
  },
  {
   "cell_type": "code",
   "execution_count": 42,
   "metadata": {},
   "outputs": [
    {
     "name": "stdout",
     "output_type": "stream",
     "text": [
      "[[]]\n",
      "[]\n",
      "[[2]]\n",
      "[]\n",
      "[[4], [2, 2]]\n",
      "[]\n",
      "[[6], [4, 2], [2, 2, 2]]\n",
      "[]\n",
      "[[8], [6, 2], [4, 4], [4, 2, 2], [2, 2, 2, 2]]\n",
      "[]\n"
     ]
    }
   ],
   "source": [
    "#we can do the same thing that we did for the privious code to show only the even part\n",
    "# using the same function \n",
    "for p in range (10):\n",
    "\n",
    "        num_part = Partitions(p, parts_in=[2,4,6,8]).list()\n",
    "        \n",
    "        print(num_part)"
   ]
  },
  {
   "cell_type": "markdown",
   "metadata": {},
   "source": [
    "#### Exploration 4 <a class=\"anchor\" id=\"exploration-4\"></a>\n",
    "\n",
    "The question to explore is: \n",
    "\n",
    " * _Partitions of $n$ using _distinct_ parts; that is, all the numbers in the partition are different._\n"
   ]
  },
  {
   "cell_type": "code",
   "execution_count": 38,
   "metadata": {},
   "outputs": [
    {
     "name": "stdout",
     "output_type": "stream",
     "text": [
      "[]\n",
      "[]\n",
      "[]\n",
      "[[2, 1]]\n",
      "[[3, 1]]\n",
      "[[4, 1], [3, 2]]\n",
      "[[5, 1], [4, 2], [3, 2, 1]]\n",
      "[[6, 1], [5, 2], [4, 3], [4, 2, 1]]\n",
      "[[7, 1], [6, 2], [5, 3], [5, 2, 1], [4, 3, 1]]\n",
      "[[8, 1], [7, 2], [6, 3], [6, 2, 1], [5, 4], [5, 3, 1], [4, 3, 2]]\n"
     ]
    }
   ],
   "source": [
    "#also sage has function to show number without repeatitions and it called max_slope\n",
    "#and this show distinct parts\n",
    "for p in range (10):\n",
    "    r = Partitions(p,max_slope=-1,min_length=2,max_length=4).list()\n",
    "    print(r)"
   ]
  },
  {
   "cell_type": "markdown",
   "metadata": {},
   "source": [
    "Try these out for small (!) $n$.  See if you find any possible patterns.  Again, it is probably best if some larger groups work together and split up the work to make it more efficient."
   ]
  },
  {
   "cell_type": "markdown",
   "metadata": {},
   "source": [
    "For the small number for n < 5 I notice that  I can use Fiboncci formula which is $f_n = f_{n-1} + f_{n-2}$\n",
    "\n",
    "But for n greater that that will not be valid, also there is no formula to calculate the integer partitions presicely but there is a pproxcimation formula that may be useful $p(n) = \\frac{1e^{\\pi\\sqrt{2n}/{3}}}{4n\\sqrt{3}}$"
   ]
  },
  {
   "cell_type": "code",
   "execution_count": null,
   "metadata": {},
   "outputs": [],
   "source": []
  }
 ],
 "metadata": {
  "kernelspec": {
   "display_name": "SageMath 9.7",
   "language": "sage",
   "name": "sagemath"
  },
  "language": "python",
  "language_info": {
   "codemirror_mode": {
    "name": "ipython",
    "version": 3
   },
   "file_extension": ".py",
   "mimetype": "text/x-python",
   "name": "python",
   "nbconvert_exporter": "python",
   "pygments_lexer": "ipython3",
   "version": "3.9.2"
  },
  "varInspector": {
   "cols": {
    "lenName": 16,
    "lenType": 16,
    "lenVar": 40
   },
   "kernels_config": {
    "python": {
     "delete_cmd_postfix": "",
     "delete_cmd_prefix": "del ",
     "library": "var_list.py",
     "varRefreshCmd": "print(var_dic_list())"
    },
    "r": {
     "delete_cmd_postfix": ") ",
     "delete_cmd_prefix": "rm(",
     "library": "var_list.r",
     "varRefreshCmd": "cat(var_dic_list()) "
    }
   },
   "types_to_exclude": [
    "module",
    "function",
    "builtin_function_or_method",
    "instance",
    "_Feature"
   ],
   "window_display": false
  }
 },
 "nbformat": 4,
 "nbformat_minor": 2
}

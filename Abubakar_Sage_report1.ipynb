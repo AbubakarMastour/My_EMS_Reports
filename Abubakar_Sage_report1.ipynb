{
 "cells": [
  {
   "cell_type": "markdown",
   "id": "tested-swift",
   "metadata": {},
   "source": [
    "# An introduction to Sage:\n",
    "\n",
    "### 1. Sage is same as python put it's just specified for the mathematical expressions.\n",
    "\n",
    "### 2. in Sage the result will appear as it's but you need to use the approximation to get the final answer.\n",
    "\n",
    "### 3. Sage is an open tool for advance mathematical expersions.\n",
    "\n",
    "### 4. Sage is best tool to teach and learn mathematics.\n",
    "\n",
    "### 5. Sage is free and use python as glue.\n",
    "\n"
   ]
  },
  {
   "cell_type": "markdown",
   "id": "statistical-class",
   "metadata": {},
   "source": [
    "Sage is very important tool for the mathematicioan, and it include many packages inside it rthat can help mathematician to do their advance math theories, such as **Numpy, Scipy, Maxima, PynacSingular ... etc***\n",
    "and ther's a 100 other packages also available for it.\n",
    "\n",
    "**Through sage you can access R studio** for example:\n",
    "\n",
    "And the same apply for the other applications."
   ]
  },
  {
   "cell_type": "code",
   "execution_count": 1,
   "id": "liable-indie",
   "metadata": {},
   "outputs": [
    {
     "data": {
      "text/plain": [
       " [1]  14.0  21.0  52.0  36.0  89.0  47.0  12.0  23.1  45.3   6.3 966.2  22.3"
      ]
     },
     "execution_count": 1,
     "metadata": {},
     "output_type": "execute_result"
    }
   ],
   "source": [
    "num = r([14,21,52,36,89,47,12,23.1,45.3,6.3,966.2,22.3])\n",
    "num"
   ]
  },
  {
   "cell_type": "markdown",
   "id": "ordered-connection",
   "metadata": {},
   "source": [
    "### Also using Sage you can do **drivations** and **factorizations** for example:"
   ]
  },
  {
   "cell_type": "code",
   "execution_count": 7,
   "id": "simple-ready",
   "metadata": {},
   "outputs": [
    {
     "data": {
      "text/plain": [
       "(m, a) |--> a*m - cos(m) + sin(a)"
      ]
     },
     "execution_count": 7,
     "metadata": {},
     "output_type": "execute_result"
    }
   ],
   "source": [
    "f(m,a) = m*a - cos(m)+sin(a)\n",
    "f"
   ]
  },
  {
   "cell_type": "code",
   "execution_count": 8,
   "id": "biological-bishop",
   "metadata": {},
   "outputs": [
    {
     "data": {
      "text/plain": [
       "(m, a) |--> (a + sin(m), m + cos(a))"
      ]
     },
     "execution_count": 8,
     "metadata": {},
     "output_type": "execute_result"
    }
   ],
   "source": [
    "# calculate the derivative of f\n",
    "derivative(f)"
   ]
  },
  {
   "cell_type": "code",
   "execution_count": 10,
   "id": "reported-midwest",
   "metadata": {},
   "outputs": [
    {
     "data": {
      "text/plain": [
       "t |--> 2*t^3 + 2*t^2 + 25"
      ]
     },
     "execution_count": 10,
     "metadata": {},
     "output_type": "execute_result"
    }
   ],
   "source": [
    "fac(t) = 2*t^3 + 2*t^2 + 25\n",
    "fac"
   ]
  },
  {
   "cell_type": "code",
   "execution_count": 11,
   "id": "australian-motorcycle",
   "metadata": {},
   "outputs": [
    {
     "data": {
      "text/plain": [
       "49"
      ]
     },
     "execution_count": 11,
     "metadata": {},
     "output_type": "execute_result"
    }
   ],
   "source": [
    "# calculate the factorial\n",
    "factor(fac(2))"
   ]
  },
  {
   "cell_type": "markdown",
   "id": "fixed-independence",
   "metadata": {},
   "source": [
    "### Also we can use Sage as a calculator to calculate the numerical operations, for example:"
   ]
  },
  {
   "cell_type": "code",
   "execution_count": 12,
   "id": "multiple-helen",
   "metadata": {},
   "outputs": [
    {
     "data": {
      "text/plain": [
       "111"
      ]
     },
     "execution_count": 12,
     "metadata": {},
     "output_type": "execute_result"
    }
   ],
   "source": [
    "22*3+45"
   ]
  },
  {
   "cell_type": "code",
   "execution_count": 27,
   "id": "guided-approach",
   "metadata": {},
   "outputs": [
    {
     "data": {
      "text/plain": [
       "3282.01666666667"
      ]
     },
     "execution_count": 27,
     "metadata": {},
     "output_type": "execute_result"
    }
   ],
   "source": [
    "x = 1245+45.23*45+5^2/15\n",
    "x"
   ]
  },
  {
   "cell_type": "code",
   "execution_count": 21,
   "id": "prospective-cloud",
   "metadata": {},
   "outputs": [
    {
     "data": {
      "text/plain": [
       "362880"
      ]
     },
     "execution_count": 21,
     "metadata": {},
     "output_type": "execute_result"
    }
   ],
   "source": [
    "# also I can calculate the factorial for any numbers \n",
    "factorial(9)"
   ]
  },
  {
   "cell_type": "code",
   "execution_count": 24,
   "id": "retained-value",
   "metadata": {},
   "outputs": [
    {
     "data": {
      "text/plain": [
       "625 loops, best of 3: 3.55 μs per loop"
      ]
     },
     "execution_count": 24,
     "metadata": {},
     "output_type": "execute_result"
    }
   ],
   "source": [
    "#also I can know how many second that this function takes to show me the output by using timeit.\n",
    "timeit('factorial(9)')"
   ]
  },
  {
   "cell_type": "code",
   "execution_count": 34,
   "id": "leading-essay",
   "metadata": {},
   "outputs": [
    {
     "data": {
      "text/plain": [
       "4.88e7"
      ]
     },
     "execution_count": 34,
     "metadata": {},
     "output_type": "execute_result"
    }
   ],
   "source": [
    "# also you can specify the number of digit you need to appear for you using digit function.\n",
    "numerical_approx(5^11, digits = 3)"
   ]
  },
  {
   "cell_type": "markdown",
   "id": "affected-sense",
   "metadata": {},
   "source": [
    "#### And there's a lot of more functions that we didn't come through them because of time, but I'm gonna cover them let on."
   ]
  },
  {
   "cell_type": "markdown",
   "id": "twelve-spine",
   "metadata": {},
   "source": [
    "### Some equations from the morning lecture"
   ]
  },
  {
   "cell_type": "markdown",
   "id": "beautiful-performer",
   "metadata": {},
   "source": [
    "## Q1: What the Value of the comlex number $(1-i)^k, for k \\geq 0.$"
   ]
  },
  {
   "cell_type": "code",
   "execution_count": 36,
   "id": "stopped-angola",
   "metadata": {},
   "outputs": [
    {
     "name": "stdout",
     "output_type": "stream",
     "text": [
      "0 1\n",
      "1 -I + 1\n",
      "2 -2*I\n",
      "3 -2*I - 2\n",
      "4 -4\n",
      "5 4*I - 4\n",
      "6 8*I\n",
      "7 8*I + 8\n",
      "8 16\n",
      "9 -16*I + 16\n",
      "10 -32*I\n",
      "11 -32*I - 32\n",
      "12 -64\n",
      "13 64*I - 64\n",
      "14 128*I\n",
      "15 128*I + 128\n"
     ]
    }
   ],
   "source": [
    "# first we gonna write our equation to define it to the program\n",
    "t = 1-i\n",
    "# then we gonna make a for loop for our range of number that we need it \n",
    "for k in range(16):\n",
    "# the we gonna print our result\n",
    "    print(k,t^k)"
   ]
  },
  {
   "cell_type": "code",
   "execution_count": null,
   "id": "unable-riding",
   "metadata": {},
   "outputs": [],
   "source": []
  },
  {
   "cell_type": "markdown",
   "id": "acknowledged-cigarette",
   "metadata": {},
   "source": [
    "### I do agree with Mohmmed's conjecture that says:\n",
    "### If k is odd then : $ (1 - i)^k = (-2i)^\\frac{k-1}{2} (1-i) $\n",
    "\n",
    "### If k is even then : $ (1 - i)^k = (-2i)^\\frac{k}{2} $ \n",
    "\n",
    "But unforcinatley this formula is turn to be complicated for the large numbers and it take time to calculate the result.\n",
    "\n",
    "According to Kilei's thoughs if I put her equation in exponential way we can get $ w = \\sqrt2 e^\\frac{-i\\pi}{4} and w^k = \\sqrt2^k e^\\frac{-ik\\pi}{4}$"
   ]
  },
  {
   "cell_type": "markdown",
   "id": "veterinary-former",
   "metadata": {},
   "source": [
    "## Q2: Are the Fermat number .i.e. numbers of the form $ F_n = 2^{2^n} + 1  $ all prime numbers"
   ]
  },
  {
   "cell_type": "code",
   "execution_count": null,
   "id": "related-vertex",
   "metadata": {},
   "outputs": [],
   "source": [
    "# first we gonna set our for loop:\n",
    "for i in range (6):\n",
    "    print (i, factorial(2^(2^i)+1))"
   ]
  },
  {
   "cell_type": "markdown",
   "id": "irish-bacon",
   "metadata": {},
   "source": [
    "### we notice that the first number can be factorized, but before 100 year later the mathematician Euler calculate F_5 and he shows that this number is not brime."
   ]
  },
  {
   "cell_type": "code",
   "execution_count": null,
   "id": "distributed-failing",
   "metadata": {},
   "outputs": [],
   "source": []
  }
 ],
 "metadata": {
  "kernelspec": {
   "display_name": "SageMath 9.2",
   "language": "sage",
   "name": "sagemath"
  },
  "language_info": {
   "codemirror_mode": {
    "name": "ipython",
    "version": 3
   },
   "file_extension": ".py",
   "mimetype": "text/x-python",
   "name": "python",
   "nbconvert_exporter": "python",
   "pygments_lexer": "ipython3",
   "version": "3.9.2"
  }
 },
 "nbformat": 4,
 "nbformat_minor": 5
}

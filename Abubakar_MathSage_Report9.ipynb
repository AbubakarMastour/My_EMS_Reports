{
 "cells": [
  {
   "cell_type": "code",
   "execution_count": 1,
   "id": "developmental-spanish",
   "metadata": {},
   "outputs": [],
   "source": [
    "# to show the symble as in latex\n",
    "%display latex"
   ]
  },
  {
   "cell_type": "markdown",
   "id": "3c02ed0a",
   "metadata": {},
   "source": [
    "## Question One:"
   ]
  },
  {
   "cell_type": "code",
   "execution_count": 175,
   "id": "valid-street",
   "metadata": {},
   "outputs": [],
   "source": [
    "#if we need to calculate the Fiboncci sequence first we need to define f as fiboncci number\n",
    "def f(n): \n",
    "# because when n = 0 f = 0 also we gonna return 0\n",
    "        if n == 0:  \n",
    "                return 0  \n",
    "# when n = 1 f = 1 also we gonna return 1 also\n",
    "        if n == 1:  \n",
    "                return 1\n",
    "# when n = 2 f = 1 also we gonna return 1 also\n",
    "\n",
    "        if n == 2:\n",
    "                return 1\n",
    "# finally we can calculate the fiboncci number from this equation\n",
    "        else:\n",
    "                return f(n-1)+f(n-2)"
   ]
  },
  {
   "cell_type": "code",
   "execution_count": 176,
   "id": "actual-venture",
   "metadata": {},
   "outputs": [
    {
     "name": "stdout",
     "output_type": "stream",
     "text": [
      "0\n",
      "1\n",
      "1\n",
      "2\n",
      "3\n",
      "5\n",
      "8\n",
      "13\n",
      "21\n",
      "34\n"
     ]
    }
   ],
   "source": [
    "# i can calculate fiboncci 10 easyly using for loop and range function\n",
    "for n in range(10):\n",
    "# I used .n() to approch the number just\n",
    "    print(f(n))"
   ]
  },
  {
   "cell_type": "code",
   "execution_count": 156,
   "id": "ab47a71a",
   "metadata": {},
   "outputs": [
    {
     "data": {
      "text/html": [
       "<html>\\(\\displaystyle \\left[\\phi = -\\frac{1}{2} \\, \\sqrt{5} + \\frac{1}{2}, \\phi = \\frac{1}{2} \\, \\sqrt{5} + \\frac{1}{2}\\right]\\)</html>"
      ],
      "text/latex": [
       "$\\displaystyle \\left[\\phi = -\\frac{1}{2} \\, \\sqrt{5} + \\frac{1}{2}, \\phi = \\frac{1}{2} \\, \\sqrt{5} + \\frac{1}{2}\\right]$"
      ],
      "text/plain": [
       "[phi == -1/2*sqrt(5) + 1/2, phi == 1/2*sqrt(5) + 1/2]"
      ]
     },
     "execution_count": 156,
     "metadata": {},
     "output_type": "execute_result"
    }
   ],
   "source": [
    "# we need to calculate the value of phi fist we define phi as var\n",
    "phi=var('phi')\n",
    "#then solve the equation to get the value of phi\n",
    "s = solve(phi^2-phi-1==0, phi)\n",
    "s"
   ]
  },
  {
   "cell_type": "code",
   "execution_count": 157,
   "id": "678ee1c3",
   "metadata": {},
   "outputs": [
    {
     "data": {
      "text/html": [
       "<html>\\(\\displaystyle \\left[\\psi = \\frac{1}{2} \\, \\sqrt{5} + \\frac{1}{2}\\right]\\)</html>"
      ],
      "text/latex": [
       "$\\displaystyle \\left[\\psi = \\frac{1}{2} \\, \\sqrt{5} + \\frac{1}{2}\\right]$"
      ],
      "text/plain": [
       "[psi == 1/2*sqrt(5) + 1/2]"
      ]
     },
     "metadata": {},
     "output_type": "display_data"
    },
    {
     "data": {
      "text/html": [
       "<html>\\(\\displaystyle \\left[\\psi = -\\frac{1}{2} \\, \\sqrt{5} + \\frac{1}{2}\\right]\\)</html>"
      ],
      "text/latex": [
       "$\\displaystyle \\left[\\psi = -\\frac{1}{2} \\, \\sqrt{5} + \\frac{1}{2}\\right]$"
      ],
      "text/plain": [
       "[psi == -1/2*sqrt(5) + 1/2]"
      ]
     },
     "metadata": {},
     "output_type": "display_data"
    }
   ],
   "source": [
    "# here i caculate the value of psi\n",
    "psi=var('psi')\n",
    "# i need for loop because we have two value of phi\n",
    "for phi in [1/2-sqrt(5)/2 ,1/2+sqrt(5)/2]:\n",
    "# then we can show the value of psi\n",
    "    show(solve(psi+phi-1==0, psi))"
   ]
  },
  {
   "cell_type": "code",
   "execution_count": 158,
   "id": "083a689a",
   "metadata": {},
   "outputs": [
    {
     "data": {
      "text/html": [
       "<html>\\(\\displaystyle \\left[c = -\\frac{1}{5} \\, \\sqrt{5}\\right]\\)</html>"
      ],
      "text/latex": [
       "$\\displaystyle \\left[c = -\\frac{1}{5} \\, \\sqrt{5}\\right]$"
      ],
      "text/plain": [
       "[c == -1/5*sqrt(5)]"
      ]
     },
     "metadata": {},
     "output_type": "display_data"
    },
    {
     "data": {
      "text/html": [
       "<html>\\(\\displaystyle \\left[c = \\frac{1}{5} \\, \\sqrt{5}\\right]\\)</html>"
      ],
      "text/latex": [
       "$\\displaystyle \\left[c = \\frac{1}{5} \\, \\sqrt{5}\\right]$"
      ],
      "text/plain": [
       "[c == 1/5*sqrt(5)]"
      ]
     },
     "metadata": {},
     "output_type": "display_data"
    }
   ],
   "source": [
    "# now we need to calculate the value of c\n",
    "c = var('c')\n",
    "# because we have two value of phi and psi also we need for loop to calculate the value of c\n",
    "for s in [1/2-sqrt(5)/2 ,1/2+sqrt(5)/2]:\n",
    "# we gonna also have two value of c\n",
    "    show(solve(c-1/(2*s-1)==0,c))\n",
    "    "
   ]
  },
  {
   "cell_type": "markdown",
   "id": "e3b44c78",
   "metadata": {},
   "source": [
    "## Question Two:"
   ]
  },
  {
   "cell_type": "code",
   "execution_count": 181,
   "id": "dbdce82f",
   "metadata": {},
   "outputs": [],
   "source": [
    "#also i can use the same code to calculate this value in question 2\n",
    "def g(n) : \n",
    "# also we need to set our if statement to set our formula    \n",
    "        if n == 0:\n",
    "            return (f(n+1)*f(n-1)-f(n)^2)\n",
    "# and then we can return the same formula       \n",
    "        else:\n",
    "            return (f(n+1)*f(n-1)-f(n)^2)"
   ]
  },
  {
   "cell_type": "code",
   "execution_count": 182,
   "id": "2d26a117",
   "metadata": {},
   "outputs": [
    {
     "name": "stdout",
     "output_type": "stream",
     "text": [
      "-1\n",
      "1\n",
      "-1\n",
      "1\n",
      "-1\n",
      "1\n",
      "-1\n",
      "1\n",
      "-1\n",
      "1\n",
      "-1\n",
      "1\n",
      "-1\n",
      "1\n",
      "-1\n",
      "1\n",
      "-1\n",
      "1\n",
      "-1\n"
     ]
    }
   ],
   "source": [
    "#to calculate 20 first term\n",
    "for n in range(1,20):\n",
    "    print(g(n))"
   ]
  },
  {
   "cell_type": "markdown",
   "id": "2153852d",
   "metadata": {},
   "source": [
    "From the previous code we can notice that when n is odd the output is -1 and when n is even the output is 1 and from that I can conclude that $f_{n+1}f_{n-1}-(f_{n})^2 = (-1)^n$.\n",
    "\n",
    "Using sage I can prove this formula using Boolean also I will use the value of $\\phi$ and   $\\psi$ the I got them from the previous code"
   ]
  },
  {
   "cell_type": "code",
   "execution_count": 4,
   "id": "0da126cf",
   "metadata": {},
   "outputs": [
    {
     "data": {
      "text/plain": [
       "True"
      ]
     },
     "execution_count": 4,
     "metadata": {},
     "output_type": "execute_result"
    }
   ],
   "source": [
    "#we need to define n as integer and greater than 0\n",
    "n=var('n');assume (n , 'integer',n>0)\n",
    "#then define the value of phi and psi\n",
    "f(n) = (((1+sqrt(5))/2)^n-((1-sqrt(5))/2)^n)/sqrt(5)\n",
    "# and the here i just asign my previous equation to variables to facilitate for me the calling\n",
    "lf_side = (f(n+1)*f(n-1)-(f(n))^2)\n",
    "rt_side = (-1)^(n)\n",
    "# finally I can check if the left side == to right side or not using boolean\n",
    "bool(lf_side == rt_side)"
   ]
  },
  {
   "cell_type": "markdown",
   "id": "de8f4fe9",
   "metadata": {},
   "source": [
    "As you can see the reslut is **True**, and this mean that the conjecture is true"
   ]
  },
  {
   "cell_type": "markdown",
   "id": "c2a80f2e",
   "metadata": {},
   "source": [
    "### Question Three:"
   ]
  },
  {
   "cell_type": "code",
   "execution_count": 153,
   "id": "6eb699cd",
   "metadata": {},
   "outputs": [],
   "source": [
    "# first set u in the diffintion function \n",
    "def u(n):   \n",
    "# then if n = 0 we return 3/2\n",
    "        if n == 0:  \n",
    "                return 3/2  \n",
    "#also if n = 1 we return 5/3\n",
    "        elif n == 1:  \n",
    "                return 5/3\n",
    "# and for the rest we use this equation    \n",
    "        else:\n",
    "                return (1+(4*(u(n-2)-1))/(u(n-1)*u(n-2)))"
   ]
  },
  {
   "cell_type": "code",
   "execution_count": 154,
   "id": "4fd9ec5d",
   "metadata": {},
   "outputs": [
    {
     "name": "stdout",
     "output_type": "stream",
     "text": [
      "5/3\n",
      "9/5\n",
      "17/9\n",
      "33/17\n",
      "65/33\n",
      "129/65\n",
      "257/129\n",
      "513/257\n",
      "1025/513\n",
      "2049/1025\n",
      "4097/2049\n",
      "8193/4097\n",
      "16385/8193\n",
      "32769/16385\n",
      "65537/32769\n",
      "131073/65537\n",
      "262145/131073\n",
      "524289/262145\n",
      "1048577/524289\n"
     ]
    }
   ],
   "source": [
    "# here I use range 20 to observe the pattren\n",
    "for n in range(1,20):\n",
    "    print(u(n))"
   ]
  },
  {
   "cell_type": "markdown",
   "id": "43487c23",
   "metadata": {},
   "source": [
    "As you can see from the privious result every time the Numerator go to the denominator in the next value and from that we conclude that the conjecture is $\\frac{2^{n+1} + 1}{2^{n} + 1}$"
   ]
  },
  {
   "cell_type": "markdown",
   "id": "43b7bb2f",
   "metadata": {},
   "source": [
    "### The prove for the $\\frac{2^{n+1} + 1}{2^{n} + 1}$ is:\n",
    "\n",
    "We have $u_{n} =1 + \\frac{4(u_{n-2} - 1)}{(u_{n-1})(u_{n-2})}$\n",
    "\n",
    "let take n = k+1 we get $u_{k+1} =1 + \\frac{4(u_{k-1} - 1)}{(u_{k})(u_{k-1})}$\n",
    "\n",
    "from our conjecture we have $u_{n} =\\frac{2^{n+1} + 1}{2^{n} + 1}$, and if we substitute in this equation we will get the value of $u_{k-1}$ and $u_{k}$\n",
    "\n",
    "let us compute the value of $u_{k}$ first: $u_{k} = \\frac{2^{k+1} + 1}{2^{k} + 1}$ and we assume that this is true.\n",
    "\n",
    "then let us compute the value of $u_{k-1}$ we get: $u_{k-1} = \\frac{2^{k} + 1}{2^{k-1} + 1}$\n",
    "\n",
    "and now let us substitute in the $u_{k}$ and $u_{k-1}$ in the $u_{k+1}$, we will get:\n",
    "\n",
    "$u_{k+1} = 1 + \\frac{4(\\frac{(2^{k} + 1}{2^{k-1} + 1})-1)}{(\\frac{2^{k+1} + 1}{2^{k} + 1})(\\frac{2^{k} + 1}{2^{k-1}\n",
    "+ 1})}$ and this is **=** $1 + 4(\\frac{(2^{k} + 1}{2^{k-1} + 1})-1){(\\frac{2^{k} + 1}{2^{k+1} + 1})(\\frac{2^{k-1} + 1}{2^{k}+ 1})}$\n",
    "\n",
    "and after I cancel the similar border and add all the border I will get: **$u_{k+1} = \\frac{2^{k+2} + 1}{2^{k+1} + 1}$** $\\blacksquare$"
   ]
  },
  {
   "cell_type": "code",
   "execution_count": null,
   "id": "b05535fe",
   "metadata": {},
   "outputs": [],
   "source": []
  }
 ],
 "metadata": {
  "kernelspec": {
   "display_name": "SageMath 9.7",
   "language": "sage",
   "name": "sagemath"
  },
  "language_info": {
   "codemirror_mode": {
    "name": "ipython",
    "version": 3
   },
   "file_extension": ".py",
   "mimetype": "text/x-python",
   "name": "python",
   "nbconvert_exporter": "python",
   "pygments_lexer": "ipython3",
   "version": "3.9.2"
  }
 },
 "nbformat": 4,
 "nbformat_minor": 5
}
